{
 "cells": [
  {
   "cell_type": "markdown",
   "metadata": {},
   "source": [
    "# Problem Set 3 (First Model Runs)"
   ]
  },
  {
   "cell_type": "markdown",
   "metadata": {},
   "source": [
    "## MACS 31300: AI Applications in Social Sciences"
   ]
  },
  {
   "cell_type": "markdown",
   "metadata": {},
   "source": [
    "### Ishan Nagpal and Mingtao Gao"
   ]
  },
  {
   "cell_type": "code",
   "execution_count": 72,
   "metadata": {},
   "outputs": [],
   "source": [
    "import pandas as pd\n",
    "import numpy as np\n",
    "import os\n",
    "import matplotlib.pyplot as plt\n",
    "from sklearn.model_selection import train_test_split\n",
    "from sklearn.tree import DecisionTreeClassifier\n",
    "from sklearn.ensemble import BaggingClassifier\n",
    "from sklearn.metrics import classification_report, confusion_matrix\n",
    "from sklearn import metrics\n",
    "from sklearn.model_selection import GridSearchCV\n",
    "import warnings\n",
    "from sklearn.exceptions import DataConversionWarning\n",
    "warnings.filterwarnings(action='ignore')"
   ]
  },
  {
   "cell_type": "markdown",
   "metadata": {},
   "source": [
    "#### Data Cleaning and Spliting"
   ]
  },
  {
   "cell_type": "code",
   "execution_count": 4,
   "metadata": {},
   "outputs": [],
   "source": [
    "def df_clean():   \n",
    "    path = '/Users/ivnagpal/Desktop/Enron Final Project/MACS31300_Final_Project'\n",
    "    os.chdir(path)\n",
    "    df = pd.read_csv (r'enron.csv')\n",
    "    df = df.drop(columns=['email_address','position']) \n",
    "    df = df.fillna(df.mean())\n",
    "    return df\n",
    "    \n",
    "df = df_clean()\n",
    "\n",
    "#Freatures\n",
    "x = df.drop (columns = ['insider','POI'])\n",
    "\n",
    "#Labels\n",
    "y = df[['POI']]"
   ]
  },
  {
   "cell_type": "markdown",
   "metadata": {},
   "source": [
    "We drop the columns containing insider's email addreses, names, and position in Enron because they are not to our POI predicting model. Further, we replace the missing values for the retained features with its mean. We split the dataframe into a dataframe containing features and POI."
   ]
  },
  {
   "cell_type": "code",
   "execution_count": 5,
   "metadata": {},
   "outputs": [
    {
     "name": "stdout",
     "output_type": "stream",
     "text": [
      "Number of training samples: 100 Observations\n",
      "Number of test samples: 44 Observations\n"
     ]
    }
   ],
   "source": [
    "x_train,x_test,y_train,y_test = train_test_split(x,y,test_size=0.30,random_state= 40)\n",
    "print ('Number of training samples:', len (x_train), 'Observations')\n",
    "print ('Number of test samples:', len (x_test), 'Observations')"
   ]
  },
  {
   "cell_type": "markdown",
   "metadata": {},
   "source": [
    "70% and 30% of the 144 observation are randomly placed in training and testing dataframes respectively for modeling."
   ]
  },
  {
   "cell_type": "markdown",
   "metadata": {},
   "source": [
    "#### Runing Bagging Tree Classifier"
   ]
  },
  {
   "cell_type": "code",
   "execution_count": 59,
   "metadata": {},
   "outputs": [
    {
     "name": "stdout",
     "output_type": "stream",
     "text": [
      "\n",
      "Training Data Accuracy Score: 0.99\n",
      "Decision Function Array:\n",
      " [[0.         1.        ]\n",
      " [1.         0.        ]\n",
      " [0.57142857 0.42857143]\n",
      " [0.71428571 0.28571429]\n",
      " [1.         0.        ]\n",
      " [0.         1.        ]\n",
      " [1.         0.        ]\n",
      " [1.         0.        ]\n",
      " [1.         0.        ]\n",
      " [1.         0.        ]\n",
      " [1.         0.        ]\n",
      " [1.         0.        ]\n",
      " [0.18181818 0.81818182]\n",
      " [0.88888889 0.11111111]\n",
      " [1.         0.        ]\n",
      " [0.6        0.4       ]\n",
      " [1.         0.        ]\n",
      " [1.         0.        ]\n",
      " [0.85714286 0.14285714]\n",
      " [1.         0.        ]\n",
      " [1.         0.        ]\n",
      " [1.         0.        ]\n",
      " [1.         0.        ]\n",
      " [0.6        0.4       ]\n",
      " [1.         0.        ]\n",
      " [1.         0.        ]\n",
      " [1.         0.        ]\n",
      " [1.         0.        ]\n",
      " [1.         0.        ]\n",
      " [1.         0.        ]\n",
      " [0.88888889 0.11111111]\n",
      " [0.71428571 0.28571429]\n",
      " [0.5        0.5       ]\n",
      " [0.88888889 0.11111111]\n",
      " [0.90909091 0.09090909]\n",
      " [1.         0.        ]\n",
      " [1.         0.        ]\n",
      " [0.33333333 0.66666667]\n",
      " [1.         0.        ]\n",
      " [1.         0.        ]\n",
      " [1.         0.        ]\n",
      " [1.         0.        ]\n",
      " [1.         0.        ]\n",
      " [1.         0.        ]\n",
      " [1.         0.        ]\n",
      " [1.         0.        ]\n",
      " [1.         0.        ]\n",
      " [1.         0.        ]\n",
      " [1.         0.        ]\n",
      " [1.         0.        ]\n",
      " [1.         0.        ]\n",
      " [1.         0.        ]\n",
      " [0.42857143 0.57142857]\n",
      " [0.75       0.25      ]\n",
      " [1.         0.        ]\n",
      " [0.25       0.75      ]\n",
      " [0.9        0.1       ]\n",
      " [0.8        0.2       ]\n",
      " [0.88888889 0.11111111]\n",
      " [0.3        0.7       ]\n",
      " [1.         0.        ]\n",
      " [1.         0.        ]\n",
      " [0.6        0.4       ]\n",
      " [0.66666667 0.33333333]\n",
      " [0.88888889 0.11111111]\n",
      " [1.         0.        ]\n",
      " [0.2        0.8       ]\n",
      " [1.         0.        ]\n",
      " [1.         0.        ]\n",
      " [0.57142857 0.42857143]\n",
      " [0.5        0.5       ]\n",
      " [1.         0.        ]\n",
      " [0.90909091 0.09090909]\n",
      " [1.         0.        ]\n",
      " [1.         0.        ]\n",
      " [1.         0.        ]\n",
      " [1.         0.        ]\n",
      " [0.57142857 0.42857143]\n",
      " [0.375      0.625     ]\n",
      " [1.         0.        ]\n",
      " [1.         0.        ]\n",
      " [1.         0.        ]\n",
      " [1.         0.        ]\n",
      " [0.875      0.125     ]\n",
      " [1.         0.        ]\n",
      " [1.         0.        ]\n",
      " [1.         0.        ]\n",
      " [1.         0.        ]\n",
      " [1.         0.        ]\n",
      " [0.54545455 0.45454545]\n",
      " [0.83333333 0.16666667]\n",
      " [1.         0.        ]\n",
      " [1.         0.        ]\n",
      " [0.66666667 0.33333333]\n",
      " [1.         0.        ]\n",
      " [1.         0.        ]\n",
      " [1.         0.        ]\n",
      " [0.875      0.125     ]\n",
      " [1.         0.        ]\n",
      " [1.         0.        ]]\n"
     ]
    }
   ],
   "source": [
    "bag = BaggingClassifier(DecisionTreeClassifier(),n_estimators = 20, oob_score= True,random_state = 40)\n",
    "bag.fit(x_train,y_train)\n",
    "decision_function = bag.oob_decision_function_\n",
    "print ('\\nTraining Data Accuracy Score:', bag.score(x_train, y_train))\n",
    "print (\"Decision Function Array:\\n\", decision_function)"
   ]
  },
  {
   "cell_type": "markdown",
   "metadata": {},
   "source": [
    "Our bagging tree classifier takes bootstrapped samples of the test data to generate 20 decision trees. It then determines whether the observation is a \"POI\" based on the most popular outcome when running the attributes through all randomly generated decision trees. We obtain a Training Data Accuracy score of 0.99 suggesting overfitting, which could lead to poor generalization of test data. Previewed above is our model's decision function array. For each observation, when the value in the first column is larger than the second, the bagging tree classifies the observation as not a POI. Conversely, when the observation in the second column is larger than the first, the bagging tree classifies the observation as a POI."
   ]
  },
  {
   "cell_type": "markdown",
   "metadata": {},
   "source": [
    "#### Predict Labels of Test Data using Bagging Tree Classifier"
   ]
  },
  {
   "cell_type": "code",
   "execution_count": 64,
   "metadata": {},
   "outputs": [
    {
     "name": "stdout",
     "output_type": "stream",
     "text": [
      "First 10 Test Prediction Values:\n",
      " ['No' 'No' 'No' 'No' 'No' 'No' 'No' 'No' 'No' 'Yes']\n",
      "\n",
      "First 10 Test Probability Values:\n",
      " [[1.   0.  ]\n",
      " [1.   0.  ]\n",
      " [0.7  0.3 ]\n",
      " [0.55 0.45]\n",
      " [1.   0.  ]\n",
      " [0.95 0.05]\n",
      " [0.9  0.1 ]\n",
      " [1.   0.  ]\n",
      " [1.   0.  ]\n",
      " [0.35 0.65]]\n"
     ]
    }
   ],
   "source": [
    "y_bagp = bag.predict(x_test)\n",
    "y_prob = bag.predict_proba(x_test)\n",
    "print ('First 10 Test Prediction Values:\\n', y_bagp[0:10])\n",
    "print ('\\nFirst 10 Test Probability Values:\\n', y_prob[0:10])"
   ]
  },
  {
   "cell_type": "markdown",
   "metadata": {},
   "source": [
    "We run the the test data frame through the bagging tree classifier (20 Random generated trees) to obtain \"POI\" predictions. We print the first 10 predictions, where a \"No\" value indicates that the insider is not a POI, and vice versa. We also print the probability estimates, which highlight the results of each observation when they are run through the random forest. When the probability value in the second column is greater than the first, the model labels the observation as a POI and vice versa."
   ]
  },
  {
   "cell_type": "markdown",
   "metadata": {},
   "source": [
    "#### Accuracy Metrics"
   ]
  },
  {
   "cell_type": "code",
   "execution_count": 65,
   "metadata": {},
   "outputs": [
    {
     "name": "stdout",
     "output_type": "stream",
     "text": [
      "Accuracy: 0.8182\n",
      "\n",
      "Confusion Matrix:\n",
      " [[35  2]\n",
      " [ 6  1]]\n"
     ]
    }
   ],
   "source": [
    "#Accuracy Score\n",
    "print(\"Accuracy:\", round (metrics.accuracy_score(y_test, y_bagp),4))\n",
    "\n",
    "#Confusion Matrix\n",
    "print('\\nConfusion Matrix:\\n',confusion_matrix(y_test, y_bagp))"
   ]
  },
  {
   "cell_type": "markdown",
   "metadata": {},
   "source": [
    "We find that the bagging tree classifier accurately predicts the correct POI/non-POI label 81.82% of the time (36/44). The confusion matrix suggests that the model predicted 35 out of 37 non-POI observations (94.59%) and 1 out 7 POI observations (14.29%). We are troubled with the model's relatively poor job predicting POI, which we attribute to the decision tree's overfit, and attempt to generalize using hypertuning."
   ]
  },
  {
   "cell_type": "markdown",
   "metadata": {},
   "source": [
    "#### Hyperparameter Tuning"
   ]
  },
  {
   "cell_type": "code",
   "execution_count": 88,
   "metadata": {},
   "outputs": [
    {
     "data": {
      "text/plain": [
       "DecisionTreeClassifier(criterion='entropy', max_depth=7, min_samples_split=6)"
      ]
     },
     "execution_count": 88,
     "metadata": {},
     "output_type": "execute_result"
    }
   ],
   "source": [
    "param_grid = {'criterion':['gini','entropy'],'max_depth':range(1,10),\n",
    "             'min_samples_split':range(1,10),\n",
    "              'min_samples_leaf':range(1,5)}\n",
    "gs = GridSearchCV(DecisionTreeClassifier(),param_grid,cv=10,n_jobs=-1)\n",
    "gs.fit(x_train, y_train)\n",
    "gs.best_estimator_ #Optimized parameters"
   ]
  },
  {
   "cell_type": "markdown",
   "metadata": {},
   "source": [
    "To generalize the model, we engage in hyperparameter tuning, utilizing a gridsearchcv, to optimize the following paramters: criterion for measuing split quality, maximum depth of the tree, and the minimum number of observations required to split a node. https://scikit-learn.org/stable/modules/generated/sklearn.tree.DecisionTreeClassifier.html. The gridsearch algorithm suggests a decision tree which uses an'entropy' measure in deciding whether to split, a maximize tree depth of 7, and a minuimum of 6 observations in a node to split."
   ]
  },
  {
   "cell_type": "markdown",
   "metadata": {},
   "source": [
    "#### Runing Bagging Tree Classifier Using Hyperparameter Tuning"
   ]
  },
  {
   "cell_type": "code",
   "execution_count": 92,
   "metadata": {},
   "outputs": [
    {
     "name": "stdout",
     "output_type": "stream",
     "text": [
      "\n",
      "Training Data Accuracy Score: 0.97\n",
      "First 10 Test Prediction Values:\n",
      " ['No' 'No' 'No' 'No' 'No' 'No' 'No' 'No' 'No' 'Yes']\n",
      "\n",
      "First 10 Test Probability Values:\n",
      " [[1.         0.        ]\n",
      " [1.         0.        ]\n",
      " [0.61944444 0.38055556]\n",
      " [0.76666667 0.23333333]\n",
      " [1.         0.        ]\n",
      " [0.925      0.075     ]\n",
      " [0.71944444 0.28055556]\n",
      " [1.         0.        ]\n",
      " [1.         0.        ]\n",
      " [0.49791667 0.50208333]]\n"
     ]
    }
   ],
   "source": [
    "bag_h = BaggingClassifier(DecisionTreeClassifier(criterion='entropy', max_depth=7, min_samples_split=6),n_estimators = 20, oob_score= True,random_state = 40)\n",
    "bag_h.fit(x_train,y_train)\n",
    "decision_function_g = bag.oob_decision_function_\n",
    "print ('\\nTraining Data Accuracy Score:', bag_h.score(x_train, y_train))\n",
    "y_bagp_h = bag_h.predict(x_test)\n",
    "y_prob_h = bag_h.predict_proba(x_test)\n",
    "print ('First 10 Test Prediction Values:\\n', y_bagp_h[0:10])\n",
    "print ('\\nFirst 10 Test Probability Values:\\n', y_prob_h[0:10])"
   ]
  },
  {
   "cell_type": "code",
   "execution_count": 94,
   "metadata": {},
   "outputs": [
    {
     "name": "stdout",
     "output_type": "stream",
     "text": [
      "Accuracy of Hypertuned Model: 0.8409\n",
      "\n",
      "Confusion Matrix of Hypertuned Model:\n",
      " [[36  1]\n",
      " [ 6  1]]\n"
     ]
    }
   ],
   "source": [
    "#Accuracy Score\n",
    "print(\"Accuracy of Hypertuned Model:\", round (metrics.accuracy_score(y_test, y_bagp_h),4))\n",
    "\n",
    "#Confusion Matrix\n",
    "print('\\nConfusion Matrix of Hypertuned Model:\\n',confusion_matrix(y_test, y_bagp_h))"
   ]
  },
  {
   "cell_type": "markdown",
   "metadata": {},
   "source": [
    "The hypertuned model is only marginally better, with the accuracy only 2.27 higher. Most notably, there is no improvement with POI detection. The model again prediction 1 out 7 POI observations (14.29%)."
   ]
  },
  {
   "cell_type": "markdown",
   "metadata": {},
   "source": [
    "####  Feature Importance Plot"
   ]
  },
  {
   "cell_type": "code",
   "execution_count": 95,
   "metadata": {},
   "outputs": [
    {
     "data": {
      "image/png": "[encoded data removed]",
      "text/plain": [
       "<Figure size 432x288 with 1 Axes>"
      ]
     },
     "metadata": {
      "needs_background": "light"
     },
     "output_type": "display_data"
    },
    {
     "data": {
      "text/html": [
       "<div>\n",
       "<style scoped>\n",
       "    .dataframe tbody tr th:only-of-type {\n",
       "        vertical-align: middle;\n",
       "    }\n",
       "\n",
       "    .dataframe tbody tr th {\n",
       "        vertical-align: top;\n",
       "    }\n",
       "\n",
       "    .dataframe thead th {\n",
       "        text-align: right;\n",
       "    }\n",
       "</style>\n",
       "<table border=\"1\" class=\"dataframe\">\n",
       "  <thead>\n",
       "    <tr style=\"text-align: right;\">\n",
       "      <th></th>\n",
       "      <th>index</th>\n",
       "      <th>Importance</th>\n",
       "    </tr>\n",
       "  </thead>\n",
       "  <tbody>\n",
       "    <tr>\n",
       "      <th>0</th>\n",
       "      <td>salary</td>\n",
       "      <td>0.038408</td>\n",
       "    </tr>\n",
       "    <tr>\n",
       "      <th>1</th>\n",
       "      <td>bonus</td>\n",
       "      <td>0.090244</td>\n",
       "    </tr>\n",
       "    <tr>\n",
       "      <th>2</th>\n",
       "      <td>long_term_incentive</td>\n",
       "      <td>0.015612</td>\n",
       "    </tr>\n",
       "    <tr>\n",
       "      <th>3</th>\n",
       "      <td>deferred_income</td>\n",
       "      <td>0.074083</td>\n",
       "    </tr>\n",
       "    <tr>\n",
       "      <th>4</th>\n",
       "      <td>deferral_payments</td>\n",
       "      <td>0.007511</td>\n",
       "    </tr>\n",
       "    <tr>\n",
       "      <th>5</th>\n",
       "      <td>loan_advances</td>\n",
       "      <td>0.000000</td>\n",
       "    </tr>\n",
       "    <tr>\n",
       "      <th>6</th>\n",
       "      <td>other</td>\n",
       "      <td>0.036838</td>\n",
       "    </tr>\n",
       "    <tr>\n",
       "      <th>7</th>\n",
       "      <td>expenses</td>\n",
       "      <td>0.054888</td>\n",
       "    </tr>\n",
       "    <tr>\n",
       "      <th>8</th>\n",
       "      <td>director_fees</td>\n",
       "      <td>0.000000</td>\n",
       "    </tr>\n",
       "    <tr>\n",
       "      <th>9</th>\n",
       "      <td>total_payments</td>\n",
       "      <td>0.088821</td>\n",
       "    </tr>\n",
       "    <tr>\n",
       "      <th>10</th>\n",
       "      <td>stock_op_exercised</td>\n",
       "      <td>0.129888</td>\n",
       "    </tr>\n",
       "    <tr>\n",
       "      <th>11</th>\n",
       "      <td>restrict_stock</td>\n",
       "      <td>0.064125</td>\n",
       "    </tr>\n",
       "    <tr>\n",
       "      <th>12</th>\n",
       "      <td>restrict_stock_deferred</td>\n",
       "      <td>0.000000</td>\n",
       "    </tr>\n",
       "    <tr>\n",
       "      <th>13</th>\n",
       "      <td>total_stock_value</td>\n",
       "      <td>0.171685</td>\n",
       "    </tr>\n",
       "    <tr>\n",
       "      <th>14</th>\n",
       "      <td>bonus_salary_ratio</td>\n",
       "      <td>0.047443</td>\n",
       "    </tr>\n",
       "    <tr>\n",
       "      <th>15</th>\n",
       "      <td>from_all</td>\n",
       "      <td>0.003909</td>\n",
       "    </tr>\n",
       "    <tr>\n",
       "      <th>16</th>\n",
       "      <td>to_all</td>\n",
       "      <td>0.012457</td>\n",
       "    </tr>\n",
       "    <tr>\n",
       "      <th>17</th>\n",
       "      <td>from_insider</td>\n",
       "      <td>0.008940</td>\n",
       "    </tr>\n",
       "    <tr>\n",
       "      <th>18</th>\n",
       "      <td>to_insider</td>\n",
       "      <td>0.016122</td>\n",
       "    </tr>\n",
       "    <tr>\n",
       "      <th>19</th>\n",
       "      <td>from_poi</td>\n",
       "      <td>0.019935</td>\n",
       "    </tr>\n",
       "    <tr>\n",
       "      <th>20</th>\n",
       "      <td>to_poi</td>\n",
       "      <td>0.055588</td>\n",
       "    </tr>\n",
       "    <tr>\n",
       "      <th>21</th>\n",
       "      <td>from_poi_ratio</td>\n",
       "      <td>0.025736</td>\n",
       "    </tr>\n",
       "    <tr>\n",
       "      <th>22</th>\n",
       "      <td>to_poi_ratio</td>\n",
       "      <td>0.027578</td>\n",
       "    </tr>\n",
       "    <tr>\n",
       "      <th>23</th>\n",
       "      <td>from_poi_ratio_2</td>\n",
       "      <td>0.000000</td>\n",
       "    </tr>\n",
       "    <tr>\n",
       "      <th>24</th>\n",
       "      <td>to_poi_ratio_2</td>\n",
       "      <td>0.010189</td>\n",
       "    </tr>\n",
       "  </tbody>\n",
       "</table>\n",
       "</div>"
      ],
      "text/plain": [
       "                      index  Importance\n",
       "0                    salary    0.038408\n",
       "1                     bonus    0.090244\n",
       "2       long_term_incentive    0.015612\n",
       "3           deferred_income    0.074083\n",
       "4         deferral_payments    0.007511\n",
       "5             loan_advances    0.000000\n",
       "6                     other    0.036838\n",
       "7                  expenses    0.054888\n",
       "8             director_fees    0.000000\n",
       "9            total_payments    0.088821\n",
       "10       stock_op_exercised    0.129888\n",
       "11           restrict_stock    0.064125\n",
       "12  restrict_stock_deferred    0.000000\n",
       "13        total_stock_value    0.171685\n",
       "14       bonus_salary_ratio    0.047443\n",
       "15                 from_all    0.003909\n",
       "16                   to_all    0.012457\n",
       "17             from_insider    0.008940\n",
       "18               to_insider    0.016122\n",
       "19                 from_poi    0.019935\n",
       "20                   to_poi    0.055588\n",
       "21           from_poi_ratio    0.025736\n",
       "22             to_poi_ratio    0.027578\n",
       "23         from_poi_ratio_2    0.000000\n",
       "24           to_poi_ratio_2    0.010189"
      ]
     },
     "execution_count": 95,
     "metadata": {},
     "output_type": "execute_result"
    }
   ],
   "source": [
    "importance = np.mean([tree.feature_importances_ for tree in bag_h.estimators_], axis=0)\n",
    "df_imp = pd.DataFrame(data=importance,index= list (x_train.columns), columns=['Importance'])\n",
    "df_imp = df_imp.reset_index()\n",
    "plt.bar (df_imp['index'],df_imp['Importance'])\n",
    "plt.xticks(rotation = 90, fontsize=8)\n",
    "plt.xlabel('FEATURE',fontsize = 12)\n",
    "plt.ylabel('IMPORTANCE',fontsize = 12)\n",
    "plt.title('Importance of Bagging Tree Features')\n",
    "plt.show()\n",
    "df_imp"
   ]
  },
  {
   "cell_type": "markdown",
   "metadata": {},
   "source": [
    "The model predominately relied upon the insider's stock valuation prior to bankruptcy, annual bonus and salary, and total value of exercised stock options in detecting POIs. Conversely, the model ignored insider's deferral payments, loan advances and restricted stocks deferred in its predictions. "
   ]
  },
  {
   "cell_type": "markdown",
   "metadata": {},
   "source": [
    "For this notebook we utilize a bagging regressor to predict POI. In a seperate notebook we utilized a a logistric regression model. For the final paper we will run two additional machine learning models and compare the results for our final project."
   ]
  },
  {
   "cell_type": "code",
   "execution_count": null,
   "metadata": {},
   "outputs": [],
   "source": []
  }
 ],
 "metadata": {
  "kernelspec": {
   "display_name": "Python 3",
   "language": "python",
   "name": "python3"
  },
  "language_info": {
   "codemirror_mode": {
    "name": "ipython",
    "version": 3
   },
   "file_extension": ".py",
   "mimetype": "text/x-python",
   "name": "python",
   "nbconvert_exporter": "python",
   "pygments_lexer": "ipython3",
   "version": "3.8.5"
  }
 },
 "nbformat": 4,
 "nbformat_minor": 4
}
