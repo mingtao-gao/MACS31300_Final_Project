{
 "cells": [
  {
   "cell_type": "markdown",
   "metadata": {},
   "source": [
    "# Problem Set 3 (First Model Runs)"
   ]
  },
  {
   "cell_type": "markdown",
   "metadata": {},
   "source": [
    "## MACS 31300: AI Applications in Social Sciences"
   ]
  },
  {
   "cell_type": "markdown",
   "metadata": {},
   "source": [
    "### Mingtao Gao and Ishan Nagpal"
   ]
  },
  {
   "cell_type": "code",
   "execution_count": 3,
   "metadata": {},
   "outputs": [],
   "source": [
    "import pandas as pd\n",
    "import numpy as np\n",
    "import os\n",
    "import matplotlib.pyplot as plt\n",
    "from sklearn.model_selection import train_test_split\n",
    "from sklearn.tree import DecisionTreeClassifier\n",
    "from sklearn.ensemble import BaggingClassifier\n",
    "from sklearn.metrics import classification_report, confusion_matrix\n",
    "from sklearn import metrics\n",
    "from sklearn.model_selection import cross_val_score\n",
    "import warnings\n",
    "from sklearn.exceptions import DataConversionWarning\n",
    "warnings.filterwarnings(action='ignore')"
   ]
  },
  {
   "cell_type": "markdown",
   "metadata": {},
   "source": [
    "#### Data Cleaning and Spliting"
   ]
  },
  {
   "cell_type": "code",
   "execution_count": 4,
   "metadata": {},
   "outputs": [],
   "source": [
    "def df_clean():   \n",
    "    path = '/Users/ivnagpal/Desktop/Enron Final Project/MACS31300_Final_Project'\n",
    "    os.chdir(path)\n",
    "    df = pd.read_csv (r'enron.csv')\n",
    "    df = df.drop(columns=['email_address','position']) \n",
    "    df = df.fillna(df.mean())\n",
    "    return df\n",
    "    \n",
    "df = df_clean()\n",
    "\n",
    "#Freatures\n",
    "x = df.drop (columns = ['insider','POI'])\n",
    "\n",
    "#Labels\n",
    "y = df[['POI']]"
   ]
  },
  {
   "cell_type": "markdown",
   "metadata": {},
   "source": [
    "We drop the columns containing insider's email addreses, names, and position in Enron because they are not to our POI predicting model. Further, we replace the missing values for the retained features with its mean. We split the dataframe into a dataframe containing features and POI."
   ]
  },
  {
   "cell_type": "code",
   "execution_count": 5,
   "metadata": {},
   "outputs": [
    {
     "name": "stdout",
     "output_type": "stream",
     "text": [
      "Number of training samples: 100 Observations\n",
      "Number of test samples: 44 Observations\n"
     ]
    }
   ],
   "source": [
    "x_train,x_test,y_train,y_test = train_test_split(x,y,test_size=0.30,random_state= 40)\n",
    "print ('Number of training samples:', len (x_train), 'Observations')\n",
    "print ('Number of test samples:', len (x_test), 'Observations')"
   ]
  },
  {
   "cell_type": "markdown",
   "metadata": {},
   "source": [
    "70% and 30% of the 144 observation are randomly placed in training and testing dataframes respectively for modeling."
   ]
  },
  {
   "cell_type": "code",
   "execution_count": 6,
   "metadata": {},
   "outputs": [
    {
     "name": "stdout",
     "output_type": "stream",
     "text": [
      "\n",
      "Training Data Accuracy Score: 0.98\n",
      "Decision Function Array:\n",
      " [[0.09034792 0.90965208]\n",
      " [0.99462508 0.00537492]\n",
      " [0.41787633 0.58212367]\n",
      " [0.64945471 0.35054529]\n",
      " [0.97467373 0.02532627]\n",
      " [0.13966451 0.86033549]\n",
      " [0.93404393 0.06595607]\n",
      " [0.99254527 0.00745473]\n",
      " [0.99452279 0.00547721]\n",
      " [0.9940365  0.0059635 ]\n",
      " [0.99439332 0.00560668]\n",
      " [0.99525277 0.00474723]\n",
      " [0.17391304 0.82608696]\n",
      " [0.97622818 0.02377182]\n",
      " [0.98261271 0.01738729]\n",
      " [0.81717378 0.18282622]\n",
      " [0.9914394  0.0085606 ]\n",
      " [0.80548757 0.19451243]\n",
      " [0.98679449 0.01320551]\n",
      " [0.9938922  0.0061078 ]\n",
      " [0.99090909 0.00909091]\n",
      " [0.99167081 0.00832919]\n",
      " [0.99394317 0.00605683]\n",
      " [0.51170931 0.48829069]\n",
      " [0.96519216 0.03480784]\n",
      " [0.99526101 0.00473899]\n",
      " [0.99578581 0.00421419]\n",
      " [0.99163967 0.00836033]\n",
      " [0.99610008 0.00389992]\n",
      " [0.99013955 0.00986045]\n",
      " [0.92486525 0.07513475]\n",
      " [0.93016105 0.06983895]\n",
      " [0.6239297  0.3760703 ]\n",
      " [0.90139527 0.09860473]\n",
      " [0.97099311 0.02900689]\n",
      " [0.95423394 0.04576606]\n",
      " [0.99536534 0.00463466]\n",
      " [0.15656566 0.84343434]\n",
      " [0.99273612 0.00726388]\n",
      " [0.98812174 0.01187826]\n",
      " [0.99606499 0.00393501]\n",
      " [0.99513293 0.00486707]\n",
      " [0.97292933 0.02707067]\n",
      " [0.99622288 0.00377712]\n",
      " [0.99521824 0.00478176]\n",
      " [0.9940286  0.0059714 ]\n",
      " [0.97860769 0.02139231]\n",
      " [0.99486023 0.00513977]\n",
      " [0.99470894 0.00529106]\n",
      " [0.98388083 0.01611917]\n",
      " [0.98988577 0.01011423]\n",
      " [0.99644057 0.00355943]\n",
      " [0.55816259 0.44183741]\n",
      " [0.87671502 0.12328498]\n",
      " [0.9846158  0.0153842 ]\n",
      " [0.24719101 0.75280899]\n",
      " [0.92732928 0.07267072]\n",
      " [0.8556014  0.1443986 ]\n",
      " [0.97697678 0.02302322]\n",
      " [0.29729571 0.70270429]\n",
      " [0.88893476 0.11106524]\n",
      " [0.99423343 0.00576657]\n",
      " [0.8558268  0.1441732 ]\n",
      " [0.82645922 0.17354078]\n",
      " [0.90739724 0.09260276]\n",
      " [0.99543593 0.00456407]\n",
      " [0.375      0.625     ]\n",
      " [0.99354262 0.00645738]\n",
      " [0.9911831  0.0088169 ]\n",
      " [0.44135802 0.55864198]\n",
      " [0.91097335 0.08902665]\n",
      " [0.99515335 0.00484665]\n",
      " [0.96395887 0.03604113]\n",
      " [0.99738381 0.00261619]\n",
      " [0.9936751  0.0063249 ]\n",
      " [0.99552003 0.00447997]\n",
      " [0.9926414  0.0073586 ]\n",
      " [0.91107335 0.08892665]\n",
      " [0.3125     0.6875    ]\n",
      " [0.99603403 0.00396597]\n",
      " [0.99367879 0.00632121]\n",
      " [0.99708316 0.00291684]\n",
      " [0.99230786 0.00769214]\n",
      " [0.91519676 0.08480324]\n",
      " [0.98105652 0.01894348]\n",
      " [0.98538514 0.01461486]\n",
      " [0.99486927 0.00513073]\n",
      " [0.99313486 0.00686514]\n",
      " [0.99263046 0.00736954]\n",
      " [0.65949354 0.34050646]\n",
      " [0.99639758 0.00360242]\n",
      " [0.99601952 0.00398048]\n",
      " [0.99566228 0.00433772]\n",
      " [0.93484002 0.06515998]\n",
      " [0.98968158 0.01031842]\n",
      " [0.99438993 0.00561007]\n",
      " [0.99360983 0.00639017]\n",
      " [0.98730213 0.01269787]\n",
      " [0.78431726 0.21568274]\n",
      " [0.95072706 0.04927294]]\n"
     ]
    }
   ],
   "source": [
    "bag = BaggingClassifier(DecisionTreeClassifier(max_depth =4),n_estimators = 50, oob_score= True,random_state = 40)\n",
    "bag.fit(x_train,y_train)\n",
    "decision_function = bag.oob_decision_function_\n",
    "print ('\\nTraining Data Accuracy Score:', bag.score(x_train, y_train))\n",
    "print (\"Decision Function Array:\\n\", decision_function)"
   ]
  },
  {
   "cell_type": "markdown",
   "metadata": {},
   "source": [
    "Our bagging tree classifier takes bootstrapped samples of the test data to generate 50 decision trees. It then determines whether the observation is a \"POI\" based on the most popular outcome when running the attributes through all randomly generated decision trees. We obtain a Training Data Accuracy score of 0.98 suggesting overfitting, which could result in a low accuracy score when we run the test data through the model. Previewed above is our model's decision function array. For each observation, when the value in the first column is larger than the second, the bagging tree classifies the observation as not a POI. Conversely, when the observation in the second column is larger than the first, the bagging tree classifies the observation as a POI."
   ]
  },
  {
   "cell_type": "markdown",
   "metadata": {},
   "source": [
    "#### Predict Labels of Test Data using Bagging Tree Classifier"
   ]
  },
  {
   "cell_type": "code",
   "execution_count": 7,
   "metadata": {},
   "outputs": [
    {
     "name": "stdout",
     "output_type": "stream",
     "text": [
      "First 10 Test Prediction Values:\n",
      " ['No' 'No' 'No' 'Yes' 'No' 'No' 'No' 'No' 'No' 'Yes']\n",
      "\n",
      "First 10 Test Probability Values:\n",
      " [[0.99442541 0.00557459]\n",
      " [0.99442541 0.00557459]\n",
      " [0.76180898 0.23819102]\n",
      " [0.48302703 0.51697297]\n",
      " [0.99442541 0.00557459]\n",
      " [0.89428301 0.10571699]\n",
      " [0.92989365 0.07010635]\n",
      " [0.99442541 0.00557459]\n",
      " [0.99442541 0.00557459]\n",
      " [0.42202147 0.57797853]]\n"
     ]
    }
   ],
   "source": [
    "y_bagp = bag.predict(x_test)\n",
    "y_prob = bag.predict_proba(x_test)\n",
    "print ('First 10 Test Prediction Values:\\n', y_bagp[0:10])\n",
    "print ('\\nFirst 10 Test Probability Values:\\n', y_prob[0:10])"
   ]
  },
  {
   "cell_type": "markdown",
   "metadata": {},
   "source": [
    "We run the the test data frame through the bagging tree classifier (50 Random generated trees) to obtain \"POI\" predictions. We print the first 10 predictions, where a \"No\" value indicates that the insider is not a POI, and vice versa. We also print the Probability estimates, which highlight the results of each observation when they are run through the random forest. When the probability value in the second column is greater than the first, the model labels the observation as a POI and vice versa."
   ]
  },
  {
   "cell_type": "markdown",
   "metadata": {},
   "source": [
    "#### Accuracy Metrics"
   ]
  },
  {
   "cell_type": "code",
   "execution_count": 8,
   "metadata": {},
   "outputs": [
    {
     "name": "stdout",
     "output_type": "stream",
     "text": [
      "Accuracy: 0.7955\n",
      "\n",
      "Confusion Matrix:\n",
      " [[33  4]\n",
      " [ 5  2]]\n"
     ]
    }
   ],
   "source": [
    "#Accuracy Score\n",
    "print(\"Accuracy:\", round (metrics.accuracy_score(y_test, y_bagp),4))\n",
    "\n",
    "#Confusion Matrix\n",
    "print('\\nConfusion Matrix:\\n',confusion_matrix(y_test, y_bagp))"
   ]
  },
  {
   "cell_type": "markdown",
   "metadata": {},
   "source": [
    "We find that the bagging tree classifier accurately predicts the correct POI/non-POI label 79.95% of the time (35/44). The confusion matrix suggests that the model predicted 33 out of 38 non-POI observations (86.84%) and 2 out 7 POI observations (28.57%), with a precision score of 33.6%. We are troubled with the model's type 1 and type II error rate. It does not appear to do an effective job predicting POI. \n",
    "\n",
    "\n",
    "\n",
    "\n",
    "\n"
   ]
  },
  {
   "cell_type": "markdown",
   "metadata": {},
   "source": [
    "####  Feature Importance Plot"
   ]
  },
  {
   "cell_type": "code",
   "execution_count": 9,
   "metadata": {},
   "outputs": [
    {
     "data": {
      "image/png": "[encoded data removed]",
      "text/plain": [
       "<Figure size 432x288 with 1 Axes>"
      ]
     },
     "metadata": {
      "needs_background": "light"
     },
     "output_type": "display_data"
    }
   ],
   "source": [
    "importance = np.mean([tree.feature_importances_ for tree in bag.estimators_], axis=0)\n",
    "df_imp = pd.DataFrame(data=importance,index= list (x_train.columns), columns=['Importance'])\n",
    "df_imp = df_imp.reset_index()\n",
    "plt.bar (df_imp['index'],df_imp['Importance'])\n",
    "plt.xticks(rotation = 90, fontsize=8)\n",
    "plt.xlabel('FEATURE',fontsize = 12)\n",
    "plt.ylabel('IMPORTANCE',fontsize = 12)\n",
    "plt.title('Importance of Bagging Tree Features')\n",
    "plt.show()"
   ]
  },
  {
   "cell_type": "markdown",
   "metadata": {},
   "source": [
    "The graph suggests that the model predomimately relied upon the insider's stock valuation prior to bankruptcy, annual bonus and salary, and stock options exercised in detecting POIs. Conversely, the model did not relay on insider's defferall payments, loan advancesm and restricted stocks deferred in its predictions. "
   ]
  },
  {
   "cell_type": "code",
   "execution_count": 11,
   "metadata": {},
   "outputs": [
    {
     "name": "stdout",
     "output_type": "stream",
     "text": [
      "Simple Decision Tree cv_scores mean:0.83\n"
     ]
    }
   ],
   "source": [
    "#Train Bagging Tree Model with CV of 10\n",
    "tree_cv_scores = cross_val_score(bag, x_train, y_train, cv=50)\n",
    "\n",
    "print('Simple Decision Tree cv_scores mean:{}'.format(np.mean(tree_cv_scores))) "
   ]
  },
  {
   "cell_type": "code",
   "execution_count": null,
   "metadata": {},
   "outputs": [],
   "source": []
  }
 ],
 "metadata": {
  "kernelspec": {
   "display_name": "Python 3",
   "language": "python",
   "name": "python3"
  },
  "language_info": {
   "codemirror_mode": {
    "name": "ipython",
    "version": 3
   },
   "file_extension": ".py",
   "mimetype": "text/x-python",
   "name": "python",
   "nbconvert_exporter": "python",
   "pygments_lexer": "ipython3",
   "version": "3.8.5"
  }
 },
 "nbformat": 4,
 "nbformat_minor": 4
}
