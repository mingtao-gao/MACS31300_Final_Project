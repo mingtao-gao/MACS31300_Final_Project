{
 "cells": [
  {
   "cell_type": "markdown",
   "metadata": {},
   "source": [
    "# Final Project\n",
    "\n",
    "Mingtao Gao"
   ]
  },
  {
   "cell_type": "markdown",
   "metadata": {},
   "source": [
    "For problem set 3, I run the logistic regression model on our processed Enron dataset and Ishan run the decision tree classifier. We evaluate each model's performance based on accuracy, precision, and recall. For our final project, we plan to build total six predictive machine learning models and compare the results to analyze which model performs the best and why. In this notebook, I will run Naive Bayes classifier and SVM classifier. The process can be summarized in the following steps:\n",
    "1. Use SelectKBest to select and reduce features\n",
    "2. Use GridSearchCV to determine optimum classifer parameters for the classifiers (if needed)\n",
    "3. Run the classifiers\n",
    "4. Evaluate their performances (return to Step 1 if Precision and Recall threshold (0.3) not reached)"
   ]
  },
  {
   "cell_type": "code",
   "execution_count": 1,
   "metadata": {},
   "outputs": [],
   "source": [
    "import re\n",
    "import os\n",
    "import pprint\n",
    "import numpy as np\n",
    "import pandas as pd \n",
    "import matplotlib.pyplot as plt\n",
    "import matplotlib.colors\n",
    "import seaborn as sns\n",
    "\n",
    "import sklearn\n",
    "from sklearn import svm\n",
    "from sklearn.impute import SimpleImputer\n",
    "from sklearn.preprocessing import scale\n",
    "from sklearn.model_selection import train_test_split\n",
    "from sklearn.model_selection import GridSearchCV\n",
    "from sklearn.naive_bayes import BernoulliNB\n",
    "from sklearn.model_selection import StratifiedShuffleSplit\n",
    "from sklearn.feature_selection import SelectKBest, f_classif\n",
    "from sklearn.metrics import accuracy_score, precision_score, recall_score\n",
    "\n",
    "import warnings\n",
    "warnings.filterwarnings(\"ignore\")\n",
    "from matplotlib.axes._axes import _log as matplotlib_axes_logger\n",
    "matplotlib_axes_logger.setLevel('ERROR')"
   ]
  },
  {
   "cell_type": "markdown",
   "metadata": {},
   "source": [
    "#### Processed Enron Dataset from Last week "
   ]
  },
  {
   "cell_type": "code",
   "execution_count": 2,
   "metadata": {},
   "outputs": [
    {
     "name": "stdout",
     "output_type": "stream",
     "text": [
      "(144, 26)\n"
     ]
    },
    {
     "data": {
      "text/html": [
       "<div>\n",
       "<style scoped>\n",
       "    .dataframe tbody tr th:only-of-type {\n",
       "        vertical-align: middle;\n",
       "    }\n",
       "\n",
       "    .dataframe tbody tr th {\n",
       "        vertical-align: top;\n",
       "    }\n",
       "\n",
       "    .dataframe thead th {\n",
       "        text-align: right;\n",
       "    }\n",
       "</style>\n",
       "<table border=\"1\" class=\"dataframe\">\n",
       "  <thead>\n",
       "    <tr style=\"text-align: right;\">\n",
       "      <th></th>\n",
       "      <th>poi</th>\n",
       "      <th>salary</th>\n",
       "      <th>bonus</th>\n",
       "      <th>long_term_incentive</th>\n",
       "      <th>deferred_income</th>\n",
       "      <th>deferral_payments</th>\n",
       "      <th>loan_advances</th>\n",
       "      <th>other</th>\n",
       "      <th>expenses</th>\n",
       "      <th>director_fees</th>\n",
       "      <th>...</th>\n",
       "      <th>from_all</th>\n",
       "      <th>to_all</th>\n",
       "      <th>from_insider</th>\n",
       "      <th>to_insider</th>\n",
       "      <th>from_poi</th>\n",
       "      <th>to_poi</th>\n",
       "      <th>from_poi_ratio</th>\n",
       "      <th>to_poi_ratio</th>\n",
       "      <th>from_poi_ratio_2</th>\n",
       "      <th>to_poi_ratio_2</th>\n",
       "    </tr>\n",
       "    <tr>\n",
       "      <th>insider</th>\n",
       "      <th></th>\n",
       "      <th></th>\n",
       "      <th></th>\n",
       "      <th></th>\n",
       "      <th></th>\n",
       "      <th></th>\n",
       "      <th></th>\n",
       "      <th></th>\n",
       "      <th></th>\n",
       "      <th></th>\n",
       "      <th></th>\n",
       "      <th></th>\n",
       "      <th></th>\n",
       "      <th></th>\n",
       "      <th></th>\n",
       "      <th></th>\n",
       "      <th></th>\n",
       "      <th></th>\n",
       "      <th></th>\n",
       "      <th></th>\n",
       "      <th></th>\n",
       "    </tr>\n",
       "  </thead>\n",
       "  <tbody>\n",
       "    <tr>\n",
       "      <th>BELDEN, TIMOTHY N</th>\n",
       "      <td>True</td>\n",
       "      <td>213999.0</td>\n",
       "      <td>5249999.0</td>\n",
       "      <td>0.0</td>\n",
       "      <td>-2334434.0</td>\n",
       "      <td>2144013.0</td>\n",
       "      <td>0.0</td>\n",
       "      <td>210698.0</td>\n",
       "      <td>17355.0</td>\n",
       "      <td>0.0</td>\n",
       "      <td>...</td>\n",
       "      <td>226</td>\n",
       "      <td>382</td>\n",
       "      <td>105</td>\n",
       "      <td>14</td>\n",
       "      <td>3</td>\n",
       "      <td>0</td>\n",
       "      <td>0.013274</td>\n",
       "      <td>0.000000</td>\n",
       "      <td>0.028571</td>\n",
       "      <td>0.000000</td>\n",
       "    </tr>\n",
       "    <tr>\n",
       "      <th>BOWEN JR, RAYMOND M</th>\n",
       "      <td>True</td>\n",
       "      <td>278601.0</td>\n",
       "      <td>1350000.0</td>\n",
       "      <td>974293.0</td>\n",
       "      <td>-833.0</td>\n",
       "      <td>0.0</td>\n",
       "      <td>0.0</td>\n",
       "      <td>1621.0</td>\n",
       "      <td>65907.0</td>\n",
       "      <td>0.0</td>\n",
       "      <td>...</td>\n",
       "      <td>25</td>\n",
       "      <td>17</td>\n",
       "      <td>17</td>\n",
       "      <td>0</td>\n",
       "      <td>6</td>\n",
       "      <td>0</td>\n",
       "      <td>0.240000</td>\n",
       "      <td>0.000000</td>\n",
       "      <td>0.352941</td>\n",
       "      <td>0.438452</td>\n",
       "    </tr>\n",
       "    <tr>\n",
       "      <th>CALGER, CHRISTOPHER F</th>\n",
       "      <td>True</td>\n",
       "      <td>240189.0</td>\n",
       "      <td>1250000.0</td>\n",
       "      <td>375304.0</td>\n",
       "      <td>-262500.0</td>\n",
       "      <td>0.0</td>\n",
       "      <td>0.0</td>\n",
       "      <td>486.0</td>\n",
       "      <td>35818.0</td>\n",
       "      <td>0.0</td>\n",
       "      <td>...</td>\n",
       "      <td>110</td>\n",
       "      <td>102</td>\n",
       "      <td>39</td>\n",
       "      <td>24</td>\n",
       "      <td>20</td>\n",
       "      <td>2</td>\n",
       "      <td>0.181818</td>\n",
       "      <td>0.019608</td>\n",
       "      <td>0.512821</td>\n",
       "      <td>0.083333</td>\n",
       "    </tr>\n",
       "    <tr>\n",
       "      <th>CAUSEY, RICHARD A</th>\n",
       "      <td>True</td>\n",
       "      <td>415189.0</td>\n",
       "      <td>1000000.0</td>\n",
       "      <td>350000.0</td>\n",
       "      <td>-235000.0</td>\n",
       "      <td>0.0</td>\n",
       "      <td>0.0</td>\n",
       "      <td>307895.0</td>\n",
       "      <td>30674.0</td>\n",
       "      <td>0.0</td>\n",
       "      <td>...</td>\n",
       "      <td>70</td>\n",
       "      <td>37</td>\n",
       "      <td>49</td>\n",
       "      <td>0</td>\n",
       "      <td>3</td>\n",
       "      <td>0</td>\n",
       "      <td>0.042857</td>\n",
       "      <td>0.000000</td>\n",
       "      <td>0.061224</td>\n",
       "      <td>0.438452</td>\n",
       "    </tr>\n",
       "    <tr>\n",
       "      <th>COLWELL, WESLEY</th>\n",
       "      <td>True</td>\n",
       "      <td>288542.0</td>\n",
       "      <td>1200000.0</td>\n",
       "      <td>0.0</td>\n",
       "      <td>-144062.0</td>\n",
       "      <td>27610.0</td>\n",
       "      <td>0.0</td>\n",
       "      <td>101740.0</td>\n",
       "      <td>16514.0</td>\n",
       "      <td>0.0</td>\n",
       "      <td>...</td>\n",
       "      <td>64</td>\n",
       "      <td>18</td>\n",
       "      <td>42</td>\n",
       "      <td>2</td>\n",
       "      <td>20</td>\n",
       "      <td>0</td>\n",
       "      <td>0.312500</td>\n",
       "      <td>0.000000</td>\n",
       "      <td>0.476190</td>\n",
       "      <td>0.000000</td>\n",
       "    </tr>\n",
       "  </tbody>\n",
       "</table>\n",
       "<p>5 rows × 26 columns</p>\n",
       "</div>"
      ],
      "text/plain": [
       "                        poi    salary      bonus  long_term_incentive  \\\n",
       "insider                                                                 \n",
       "BELDEN, TIMOTHY N      True  213999.0  5249999.0                  0.0   \n",
       "BOWEN JR, RAYMOND M    True  278601.0  1350000.0             974293.0   \n",
       "CALGER, CHRISTOPHER F  True  240189.0  1250000.0             375304.0   \n",
       "CAUSEY, RICHARD A      True  415189.0  1000000.0             350000.0   \n",
       "COLWELL, WESLEY        True  288542.0  1200000.0                  0.0   \n",
       "\n",
       "                       deferred_income  deferral_payments  loan_advances  \\\n",
       "insider                                                                    \n",
       "BELDEN, TIMOTHY N           -2334434.0          2144013.0            0.0   \n",
       "BOWEN JR, RAYMOND M             -833.0                0.0            0.0   \n",
       "CALGER, CHRISTOPHER F        -262500.0                0.0            0.0   \n",
       "CAUSEY, RICHARD A            -235000.0                0.0            0.0   \n",
       "COLWELL, WESLEY              -144062.0            27610.0            0.0   \n",
       "\n",
       "                          other  expenses  director_fees  ...  from_all  \\\n",
       "insider                                                   ...             \n",
       "BELDEN, TIMOTHY N      210698.0   17355.0            0.0  ...       226   \n",
       "BOWEN JR, RAYMOND M      1621.0   65907.0            0.0  ...        25   \n",
       "CALGER, CHRISTOPHER F     486.0   35818.0            0.0  ...       110   \n",
       "CAUSEY, RICHARD A      307895.0   30674.0            0.0  ...        70   \n",
       "COLWELL, WESLEY        101740.0   16514.0            0.0  ...        64   \n",
       "\n",
       "                       to_all  from_insider  to_insider  from_poi  to_poi  \\\n",
       "insider                                                                     \n",
       "BELDEN, TIMOTHY N         382           105          14         3       0   \n",
       "BOWEN JR, RAYMOND M        17            17           0         6       0   \n",
       "CALGER, CHRISTOPHER F     102            39          24        20       2   \n",
       "CAUSEY, RICHARD A          37            49           0         3       0   \n",
       "COLWELL, WESLEY            18            42           2        20       0   \n",
       "\n",
       "                       from_poi_ratio  to_poi_ratio  from_poi_ratio_2  \\\n",
       "insider                                                                 \n",
       "BELDEN, TIMOTHY N            0.013274      0.000000          0.028571   \n",
       "BOWEN JR, RAYMOND M          0.240000      0.000000          0.352941   \n",
       "CALGER, CHRISTOPHER F        0.181818      0.019608          0.512821   \n",
       "CAUSEY, RICHARD A            0.042857      0.000000          0.061224   \n",
       "COLWELL, WESLEY              0.312500      0.000000          0.476190   \n",
       "\n",
       "                       to_poi_ratio_2  \n",
       "insider                                \n",
       "BELDEN, TIMOTHY N            0.000000  \n",
       "BOWEN JR, RAYMOND M          0.438452  \n",
       "CALGER, CHRISTOPHER F        0.083333  \n",
       "CAUSEY, RICHARD A            0.438452  \n",
       "COLWELL, WESLEY              0.000000  \n",
       "\n",
       "[5 rows x 26 columns]"
      ]
     },
     "execution_count": 2,
     "metadata": {},
     "output_type": "execute_result"
    }
   ],
   "source": [
    "df = pd.read_csv('enron_processed.csv', index_col = 0)\n",
    "print(df.shape)\n",
    "df.head()"
   ]
  },
  {
   "cell_type": "code",
   "execution_count": 3,
   "metadata": {},
   "outputs": [],
   "source": [
    "scaled_df = df.copy()\n",
    "scaled_df.iloc[:, 1:] = scale(scaled_df.iloc[:, 1:])\n",
    "cols = scaled_df.columns.tolist()\n",
    "my_dataset = scaled_df.to_dict(orient='index')"
   ]
  },
  {
   "cell_type": "markdown",
   "metadata": {},
   "source": [
    "#### Helper Functions"
   ]
  },
  {
   "cell_type": "code",
   "execution_count": 4,
   "metadata": {},
   "outputs": [],
   "source": [
    "# Seperate target feature and other features as two lists\n",
    "def separateLabels(dataset, cols):\n",
    "    labels = []\n",
    "    features = []    \n",
    "    for key in my_dataset.keys():\n",
    "        lst = [my_dataset[key][col] for col in cols]\n",
    "        labels.append(lst[0])\n",
    "        features.append(np.array(lst[1:]))\n",
    "    return features, labels"
   ]
  },
  {
   "cell_type": "code",
   "execution_count": 5,
   "metadata": {},
   "outputs": [],
   "source": [
    "# Split the dataset into training data and testing data\n",
    "def trainTestSplit(df, holdBackFraction = .2):\n",
    "    df = df.reindex(np.random.permutation(df.index))\n",
    "    holdBackIndex = int(holdBackFraction * len(df))\n",
    "    train_data = df[holdBackIndex:].copy()\n",
    "    test_data = df[:holdBackIndex].copy()\n",
    "    return train_data, test_data"
   ]
  },
  {
   "cell_type": "code",
   "execution_count": 6,
   "metadata": {},
   "outputs": [],
   "source": [
    "# Function used to tune the algorithm using grid search \n",
    "# and prints out the average evaluation metrics results (accuracy, percision, recall)\n",
    "def tune_params(grid_search, features, labels, params, iters=50):\n",
    "    acc = []\n",
    "    pre = []\n",
    "    recall = []\n",
    "    \n",
    "    for i in range(iters):\n",
    "        features_train, features_test, labels_train, labels_test = \\\n",
    "        train_test_split(features, labels, test_size = 0.20, random_state = i)\n",
    "        grid_search.fit(features_train, labels_train)\n",
    "        predicts = grid_search.predict(features_test)\n",
    "        \n",
    "        acc = acc + [accuracy_score(labels_test, predicts)] \n",
    "        pre = pre + [precision_score(labels_test, predicts)]\n",
    "        recall = recall + [recall_score(labels_test, predicts)]\n",
    "    \n",
    "    print (\"accuracy: {}\".format(np.mean(acc)))\n",
    "    print (\"precision: {}\".format(np.mean(pre)))\n",
    "    print (\"recall: {}\".format(np.mean(recall)))\n",
    "\n",
    "    best_params = grid_search.best_estimator_.get_params()\n",
    "    for param_name in params.keys():\n",
    "        print(\"%s = %r, \" % (param_name, best_params[param_name]))"
   ]
  },
  {
   "cell_type": "code",
   "execution_count": 7,
   "metadata": {},
   "outputs": [],
   "source": [
    "# Select the best k features\n",
    "def feature_selection(nb_features,features, labels):\n",
    "    selector = SelectKBest(f_classif, k=nb_features)\n",
    "    selector.fit(features, labels)\n",
    "    return selector"
   ]
  },
  {
   "cell_type": "code",
   "execution_count": 8,
   "metadata": {},
   "outputs": [],
   "source": [
    "# Cross-validation and calculate precision and recall metrics\n",
    "def test_classifier(clf, labels, features, nb_features, folds = 1000):\n",
    "    cv = StratifiedShuffleSplit(folds, random_state = 42)\n",
    "    true_negatives = 0\n",
    "    false_negatives = 0\n",
    "    true_positives = 0\n",
    "    false_positives = 0\n",
    "    precision=0\n",
    "    recall=0\n",
    "    f1=0\n",
    "    f2=0\n",
    "    for train_idx, test_idx in cv.split(features, labels): \n",
    "        features_train = []\n",
    "        features_test  = []\n",
    "        labels_train   = []\n",
    "        labels_test    = []\n",
    "        for ii in train_idx:\n",
    "            features_train.append( features[ii] )\n",
    "            labels_train.append( labels[ii] )\n",
    "        for jj in test_idx:\n",
    "            features_test.append( features[jj] )\n",
    "            labels_test.append( labels[jj] )\n",
    "            \n",
    "        #Selection of the best K features   \n",
    "        selector=feature_selection(nb_features,features_train, labels_train)\n",
    "        features_train_transformed = selector.transform(features_train)\n",
    "        features_test_transformed  = selector.transform(features_test)   \n",
    "            \n",
    "        ### fit the classifier using training set, and test on test set\n",
    "        clf.fit(features_train_transformed, labels_train)\n",
    "        predictions = clf.predict(features_test_transformed)\n",
    "        for prediction, truth in zip(predictions, labels_test):\n",
    "            if prediction == 0 and truth == 0:\n",
    "                true_negatives += 1\n",
    "            elif prediction == 0 and truth == 1:\n",
    "                false_negatives += 1\n",
    "            elif prediction == 1 and truth == 0:\n",
    "                false_positives += 1\n",
    "            elif prediction == 1 and truth == 1:\n",
    "                true_positives += 1\n",
    "            else:\n",
    "                break\n",
    "   \n",
    "    try:\n",
    "        total_predictions = true_negatives + false_negatives + false_positives + true_positives\n",
    "        accuracy = 1.0*(true_positives + true_negatives)/total_predictions\n",
    "        precision = 1.0*true_positives/(true_positives+false_positives)\n",
    "        recall = 1.0*true_positives/(true_positives+false_negatives)\n",
    "        f1 = 2.0 * true_positives/(2*true_positives + false_positives+false_negatives)\n",
    "        f2 = (1+2.0*2.0) * precision*recall/(4*precision + recall)\n",
    "    except:\n",
    "        None\n",
    "    return precision,recall,f1,f2"
   ]
  },
  {
   "cell_type": "code",
   "execution_count": 9,
   "metadata": {},
   "outputs": [],
   "source": [
    "# Plot confusion matrix\n",
    "def plotConfusionMatrix(clf, testDF, target, feature=None):\n",
    "    if feature:\n",
    "        predictions = clf.predict(np.stack(testDF[feature], axis=0))\n",
    "    else:\n",
    "        predictions = clf.predict(testDF.drop([target], axis=1))\n",
    "    mat = sklearn.metrics.confusion_matrix(testDF[target], predictions)\n",
    "    sns.heatmap(mat.T, square=True, annot=True, fmt='d', cbar=False,\n",
    "                    xticklabels=testDF[target].unique(), yticklabels=testDF[target].unique())\n",
    "    plt.xlabel('true label')\n",
    "    plt.ylabel('predicted label')\n",
    "    plt.title(\"Confusion Matrix\")\n",
    "    plt.show()\n",
    "    plt.close()"
   ]
  },
  {
   "cell_type": "code",
   "execution_count": 10,
   "metadata": {},
   "outputs": [],
   "source": [
    "# Plot ROC\n",
    "def plotMultiROC(clf, testDF, target, feature=None):\n",
    "    classes = clf.classes_\n",
    "    \n",
    "    if feature:\n",
    "        probs = clf.predict_proba(np.stack(testDF[feature], axis=0))\n",
    "        predictions = clf.predict(np.stack(testDF[feature], axis=0))\n",
    "    else:\n",
    "        probs = clf.predict_proba(testDF.drop([target], axis=1))\n",
    "        predictions = clf.predict(testDF.drop([target], axis=1))\n",
    "    \n",
    "    fig, ax = plt.subplots(figsize = (10,10))\n",
    "\n",
    "    aucVals = []\n",
    "    for classIndex, className in enumerate(classes): \n",
    "        truths = [1 if c == className else 0 for c in testDF[target]]\n",
    "        predict = [1 if c == className else 0 for c in predictions]\n",
    "        scores = probs[:, classIndex]\n",
    "\n",
    "        #Get the ROC curve\n",
    "        fpr, tpr, thresholds = sklearn.metrics.roc_curve(truths, scores)\n",
    "        auc = sklearn.metrics.auc(fpr, tpr)\n",
    "        aucVals.append(auc)\n",
    "\n",
    "        #Plot the class's line\n",
    "        ax.plot(fpr, tpr, label = \"{} (AUC ${:.3f}$)\".format(str(className).split(':')[0], auc))\n",
    "\n",
    "    #Make the plot nice, then display it\n",
    "    ax.set_title('Receiver Operating Characteristics')\n",
    "    plt.plot([0,1], [0,1], color = 'k', linestyle='--')\n",
    "    ax.set_xlabel('False Positive Rate')\n",
    "    ax.set_ylabel('True Positive Rate')\n",
    "    ax.legend(loc = 'lower right')\n",
    "    plt.show()\n",
    "    plt.close()"
   ]
  },
  {
   "cell_type": "code",
   "execution_count": 11,
   "metadata": {},
   "outputs": [],
   "source": [
    "features, labels = separateLabels(my_dataset, cols)"
   ]
  },
  {
   "cell_type": "markdown",
   "metadata": {},
   "source": [
    "### Naive Bayes\n",
    "\n",
    "A Naive Bayes classifier is a probabilistic machine learning model, based on the Bayes theorem, that’s used for classification task. The Bayes theorem finds the probability of A happening, given that B has occurred. In this case, known the finantial and email features of insiders, the classifier is trying to predict whether the insider is a POI based on probabilities."
   ]
  },
  {
   "cell_type": "markdown",
   "metadata": {},
   "source": [
    "#### Select the best features"
   ]
  },
  {
   "cell_type": "markdown",
   "metadata": {},
   "source": [
    "Bernoulli Naive Bayes is a variant of Naive Bayes, which is used for discrete data, where features are only in binary form. In this case, our target is 'poi', a binary variable. Because for this algorithm, there is no specific parameter to tune, we will skip step 2 and run the model with selected features."
   ]
  },
  {
   "cell_type": "code",
   "execution_count": 12,
   "metadata": {},
   "outputs": [],
   "source": [
    "nb_features_orig = len(features[1])\n",
    "precision_result = []\n",
    "recall_result = []\n",
    "f1_result = []\n",
    "f2_result = []\n",
    "nb_feature_store = []\n",
    "\n",
    "clf=BernoulliNB()\n",
    "\n",
    "# Calculate the evaluation metrics for k best number of features selected in the model\n",
    "for nb_features in range(1,nb_features_orig):\n",
    "    precision, recall, f1, f2 = test_classifier(clf, labels, features, nb_features, folds=1000)              \n",
    "    precision_result.append(precision)\n",
    "    recall_result.append(recall)     \n",
    "    f1_result.append(f1)\n",
    "    f2_result.append(f2)\n",
    "    nb_feature_store.append(nb_features)"
   ]
  },
  {
   "cell_type": "code",
   "execution_count": 13,
   "metadata": {},
   "outputs": [
    {
     "data": {
      "image/png": "[encoded data removed]",
      "text/plain": [
       "<Figure size 432x288 with 1 Axes>"
      ]
     },
     "metadata": {
      "needs_background": "light"
     },
     "output_type": "display_data"
    }
   ],
   "source": [
    "# Plot precision and recall by different number of features used in the model\n",
    "plt.plot(range(1,nb_features_orig),precision_result,c='red',label='precision')\n",
    "plt.plot(range(1,nb_features_orig),recall_result,c='blue',label='recall')\n",
    "plt.xlabel(\"Number of features used in the model\")\n",
    "plt.title(\"Precision and recall by number of features included in the model\")\n",
    "plt.legend()\n",
    "plt.show()"
   ]
  },
  {
   "cell_type": "markdown",
   "metadata": {},
   "source": [
    "From the plot, we can see the precision and recall of this classifier stay the same with more than 10 features. Therefore, I choose 10 as the number of features to be selected for Naive Bayes model."
   ]
  },
  {
   "cell_type": "code",
   "execution_count": 14,
   "metadata": {},
   "outputs": [
    {
     "name": "stdout",
     "output_type": "stream",
     "text": [
      "Precsion when the 10 best features are selected: 0.4066461116820829\n",
      "Recall when the 10 best features are selected 0.5935\n"
     ]
    }
   ],
   "source": [
    "print (\"Precsion when the 10 best features are selected:\", precision_result[9])\n",
    "print (\"Recall when the 10 best features are selected\", recall_result[9])"
   ]
  },
  {
   "cell_type": "code",
   "execution_count": 15,
   "metadata": {},
   "outputs": [
    {
     "data": {
      "text/html": [
       "<div>\n",
       "<style scoped>\n",
       "    .dataframe tbody tr th:only-of-type {\n",
       "        vertical-align: middle;\n",
       "    }\n",
       "\n",
       "    .dataframe tbody tr th {\n",
       "        vertical-align: top;\n",
       "    }\n",
       "\n",
       "    .dataframe thead th {\n",
       "        text-align: right;\n",
       "    }\n",
       "</style>\n",
       "<table border=\"1\" class=\"dataframe\">\n",
       "  <thead>\n",
       "    <tr style=\"text-align: right;\">\n",
       "      <th></th>\n",
       "      <th>nb_feature</th>\n",
       "      <th>precision</th>\n",
       "      <th>recall</th>\n",
       "      <th>f1</th>\n",
       "      <th>f2</th>\n",
       "    </tr>\n",
       "  </thead>\n",
       "  <tbody>\n",
       "    <tr>\n",
       "      <th>0</th>\n",
       "      <td>1.0</td>\n",
       "      <td>0.000000</td>\n",
       "      <td>0.0000</td>\n",
       "      <td>0.000000</td>\n",
       "      <td>0.000000</td>\n",
       "    </tr>\n",
       "    <tr>\n",
       "      <th>1</th>\n",
       "      <td>2.0</td>\n",
       "      <td>0.239544</td>\n",
       "      <td>0.0315</td>\n",
       "      <td>0.055678</td>\n",
       "      <td>0.038122</td>\n",
       "    </tr>\n",
       "    <tr>\n",
       "      <th>2</th>\n",
       "      <td>3.0</td>\n",
       "      <td>0.243243</td>\n",
       "      <td>0.1575</td>\n",
       "      <td>0.191199</td>\n",
       "      <td>0.169446</td>\n",
       "    </tr>\n",
       "    <tr>\n",
       "      <th>3</th>\n",
       "      <td>4.0</td>\n",
       "      <td>0.288502</td>\n",
       "      <td>0.2070</td>\n",
       "      <td>0.241048</td>\n",
       "      <td>0.219396</td>\n",
       "    </tr>\n",
       "    <tr>\n",
       "      <th>4</th>\n",
       "      <td>5.0</td>\n",
       "      <td>0.324747</td>\n",
       "      <td>0.3215</td>\n",
       "      <td>0.323116</td>\n",
       "      <td>0.322144</td>\n",
       "    </tr>\n",
       "  </tbody>\n",
       "</table>\n",
       "</div>"
      ],
      "text/plain": [
       "   nb_feature  precision  recall        f1        f2\n",
       "0         1.0   0.000000  0.0000  0.000000  0.000000\n",
       "1         2.0   0.239544  0.0315  0.055678  0.038122\n",
       "2         3.0   0.243243  0.1575  0.191199  0.169446\n",
       "3         4.0   0.288502  0.2070  0.241048  0.219396\n",
       "4         5.0   0.324747  0.3215  0.323116  0.322144"
      ]
     },
     "execution_count": 15,
     "metadata": {},
     "output_type": "execute_result"
    }
   ],
   "source": [
    "result=pd.DataFrame([nb_feature_store,precision_result,recall_result,f1_result,f2_result]).T\n",
    "result.columns=['nb_feature','precision','recall','f1','f2']\n",
    "result.head()"
   ]
  },
  {
   "cell_type": "code",
   "execution_count": 16,
   "metadata": {},
   "outputs": [
    {
     "data": {
      "text/html": [
       "<div>\n",
       "<style scoped>\n",
       "    .dataframe tbody tr th:only-of-type {\n",
       "        vertical-align: middle;\n",
       "    }\n",
       "\n",
       "    .dataframe tbody tr th {\n",
       "        vertical-align: top;\n",
       "    }\n",
       "\n",
       "    .dataframe thead th {\n",
       "        text-align: right;\n",
       "    }\n",
       "</style>\n",
       "<table border=\"1\" class=\"dataframe\">\n",
       "  <thead>\n",
       "    <tr style=\"text-align: right;\">\n",
       "      <th></th>\n",
       "      <th>feature_name</th>\n",
       "      <th>score</th>\n",
       "    </tr>\n",
       "  </thead>\n",
       "  <tbody>\n",
       "    <tr>\n",
       "      <th>13</th>\n",
       "      <td>total_stock_value</td>\n",
       "      <td>24.3079</td>\n",
       "    </tr>\n",
       "    <tr>\n",
       "      <th>0</th>\n",
       "      <td>salary</td>\n",
       "      <td>24.0495</td>\n",
       "    </tr>\n",
       "    <tr>\n",
       "      <th>10</th>\n",
       "      <td>stock_op_exercised</td>\n",
       "      <td>22.6105</td>\n",
       "    </tr>\n",
       "    <tr>\n",
       "      <th>1</th>\n",
       "      <td>bonus</td>\n",
       "      <td>21.7933</td>\n",
       "    </tr>\n",
       "    <tr>\n",
       "      <th>3</th>\n",
       "      <td>deferred_income</td>\n",
       "      <td>16.3867</td>\n",
       "    </tr>\n",
       "    <tr>\n",
       "      <th>19</th>\n",
       "      <td>from_poi</td>\n",
       "      <td>16.057</td>\n",
       "    </tr>\n",
       "    <tr>\n",
       "      <th>24</th>\n",
       "      <td>to_poi_ratio_2</td>\n",
       "      <td>14.9646</td>\n",
       "    </tr>\n",
       "    <tr>\n",
       "      <th>23</th>\n",
       "      <td>from_poi_ratio_2</td>\n",
       "      <td>13.6494</td>\n",
       "    </tr>\n",
       "    <tr>\n",
       "      <th>14</th>\n",
       "      <td>bonus_salary_ratio</td>\n",
       "      <td>11.0464</td>\n",
       "    </tr>\n",
       "    <tr>\n",
       "      <th>2</th>\n",
       "      <td>long_term_incentive</td>\n",
       "      <td>10.867</td>\n",
       "    </tr>\n",
       "  </tbody>\n",
       "</table>\n",
       "</div>"
      ],
      "text/plain": [
       "           feature_name    score\n",
       "13    total_stock_value  24.3079\n",
       "0                salary  24.0495\n",
       "10   stock_op_exercised  22.6105\n",
       "1                 bonus  21.7933\n",
       "3       deferred_income  16.3867\n",
       "19             from_poi   16.057\n",
       "24       to_poi_ratio_2  14.9646\n",
       "23     from_poi_ratio_2  13.6494\n",
       "14   bonus_salary_ratio  11.0464\n",
       "2   long_term_incentive   10.867"
      ]
     },
     "execution_count": 16,
     "metadata": {},
     "output_type": "execute_result"
    }
   ],
   "source": [
    "selector = feature_selection(11, features, labels)\n",
    "feature_importance=pd.DataFrame([cols[1:], list(selector.scores_)]).T\n",
    "feature_importance.columns=['feature_name','score']\n",
    "feature_importance.sort_values('score', ascending=False, inplace=True)\n",
    "feature_importance[:10]"
   ]
  },
  {
   "cell_type": "markdown",
   "metadata": {},
   "source": [
    "Based on feature importance scores, the top 10 features selected are 1) total_stock_value, 2) salary, 3) stock_op_exercised, 4) bonus, 5) deferred_income, 6) from_poi, 7) to_poi_ratio_2, 8) from_poi_ratio_2, 9) bonus_salary_ratio, 10) long_term_incentives."
   ]
  },
  {
   "cell_type": "code",
   "execution_count": 17,
   "metadata": {},
   "outputs": [
    {
     "name": "stdout",
     "output_type": "stream",
     "text": [
      "(144, 11)\n"
     ]
    },
    {
     "data": {
      "text/html": [
       "<div>\n",
       "<style scoped>\n",
       "    .dataframe tbody tr th:only-of-type {\n",
       "        vertical-align: middle;\n",
       "    }\n",
       "\n",
       "    .dataframe tbody tr th {\n",
       "        vertical-align: top;\n",
       "    }\n",
       "\n",
       "    .dataframe thead th {\n",
       "        text-align: right;\n",
       "    }\n",
       "</style>\n",
       "<table border=\"1\" class=\"dataframe\">\n",
       "  <thead>\n",
       "    <tr style=\"text-align: right;\">\n",
       "      <th></th>\n",
       "      <th>poi</th>\n",
       "      <th>total_stock_value</th>\n",
       "      <th>salary</th>\n",
       "      <th>stock_op_exercised</th>\n",
       "      <th>bonus</th>\n",
       "      <th>deferred_income</th>\n",
       "      <th>from_poi</th>\n",
       "      <th>to_poi_ratio_2</th>\n",
       "      <th>from_poi_ratio_2</th>\n",
       "      <th>bonus_salary_ratio</th>\n",
       "      <th>long_term_incentive</th>\n",
       "    </tr>\n",
       "  </thead>\n",
       "  <tbody>\n",
       "    <tr>\n",
       "      <th>0</th>\n",
       "      <td>True</td>\n",
       "      <td>-0.292161</td>\n",
       "      <td>0.196501</td>\n",
       "      <td>-0.247013</td>\n",
       "      <td>3.744850</td>\n",
       "      <td>-3.987831</td>\n",
       "      <td>0.122450</td>\n",
       "      <td>-0.942030</td>\n",
       "      <td>-0.475642</td>\n",
       "      <td>6.033673</td>\n",
       "      <td>-0.481190</td>\n",
       "    </tr>\n",
       "    <tr>\n",
       "      <th>1</th>\n",
       "      <td>True</td>\n",
       "      <td>-0.431129</td>\n",
       "      <td>0.549894</td>\n",
       "      <td>-0.441284</td>\n",
       "      <td>0.561489</td>\n",
       "      <td>0.313693</td>\n",
       "      <td>0.621489</td>\n",
       "      <td>0.816922</td>\n",
       "      <td>2.293639</td>\n",
       "      <td>0.729556</td>\n",
       "      <td>0.958107</td>\n",
       "    </tr>\n",
       "    <tr>\n",
       "      <th>2</th>\n",
       "      <td>True</td>\n",
       "      <td>-0.451526</td>\n",
       "      <td>0.339768</td>\n",
       "      <td>-0.441284</td>\n",
       "      <td>0.479865</td>\n",
       "      <td>-0.168638</td>\n",
       "      <td>2.950341</td>\n",
       "      <td>-0.607719</td>\n",
       "      <td>3.658596</td>\n",
       "      <td>0.826169</td>\n",
       "      <td>0.073236</td>\n",
       "    </tr>\n",
       "    <tr>\n",
       "      <th>3</th>\n",
       "      <td>True</td>\n",
       "      <td>-0.066975</td>\n",
       "      <td>1.297075</td>\n",
       "      <td>-0.441284</td>\n",
       "      <td>0.275803</td>\n",
       "      <td>-0.117947</td>\n",
       "      <td>0.122450</td>\n",
       "      <td>0.816922</td>\n",
       "      <td>-0.196869</td>\n",
       "      <td>0.072953</td>\n",
       "      <td>0.035856</td>\n",
       "    </tr>\n",
       "    <tr>\n",
       "      <th>4</th>\n",
       "      <td>True</td>\n",
       "      <td>-0.358916</td>\n",
       "      <td>0.604275</td>\n",
       "      <td>-0.441284</td>\n",
       "      <td>0.439052</td>\n",
       "      <td>0.049679</td>\n",
       "      <td>2.950341</td>\n",
       "      <td>-0.942030</td>\n",
       "      <td>3.345870</td>\n",
       "      <td>0.544519</td>\n",
       "      <td>-0.481190</td>\n",
       "    </tr>\n",
       "  </tbody>\n",
       "</table>\n",
       "</div>"
      ],
      "text/plain": [
       "    poi  total_stock_value    salary  stock_op_exercised     bonus  \\\n",
       "0  True          -0.292161  0.196501           -0.247013  3.744850   \n",
       "1  True          -0.431129  0.549894           -0.441284  0.561489   \n",
       "2  True          -0.451526  0.339768           -0.441284  0.479865   \n",
       "3  True          -0.066975  1.297075           -0.441284  0.275803   \n",
       "4  True          -0.358916  0.604275           -0.441284  0.439052   \n",
       "\n",
       "   deferred_income  from_poi  to_poi_ratio_2  from_poi_ratio_2  \\\n",
       "0        -3.987831  0.122450       -0.942030         -0.475642   \n",
       "1         0.313693  0.621489        0.816922          2.293639   \n",
       "2        -0.168638  2.950341       -0.607719          3.658596   \n",
       "3        -0.117947  0.122450        0.816922         -0.196869   \n",
       "4         0.049679  2.950341       -0.942030          3.345870   \n",
       "\n",
       "   bonus_salary_ratio  long_term_incentive  \n",
       "0            6.033673            -0.481190  \n",
       "1            0.729556             0.958107  \n",
       "2            0.826169             0.073236  \n",
       "3            0.072953             0.035856  \n",
       "4            0.544519            -0.481190  "
      ]
     },
     "execution_count": 17,
     "metadata": {},
     "output_type": "execute_result"
    }
   ],
   "source": [
    "final_features = ['poi'] + feature_importance.feature_name.tolist()[:10]\n",
    "features_list = scaled_df[final_features].reset_index().drop('insider', axis=1)\n",
    "print(features_list.shape)\n",
    "features_list.head()"
   ]
  },
  {
   "cell_type": "markdown",
   "metadata": {},
   "source": [
    "#### Run and Evaluation"
   ]
  },
  {
   "cell_type": "code",
   "execution_count": 18,
   "metadata": {},
   "outputs": [],
   "source": [
    "train_df, test_df = trainTestSplit(features_list)"
   ]
  },
  {
   "cell_type": "code",
   "execution_count": 19,
   "metadata": {},
   "outputs": [
    {
     "data": {
      "text/plain": [
       "BernoulliNB()"
      ]
     },
     "execution_count": 19,
     "metadata": {},
     "output_type": "execute_result"
    }
   ],
   "source": [
    "naiveBayes = sklearn.naive_bayes.BernoulliNB()\n",
    "naiveBayes.fit(train_df.drop(['poi'], axis=1), train_df['poi'])"
   ]
  },
  {
   "cell_type": "code",
   "execution_count": 20,
   "metadata": {},
   "outputs": [
    {
     "name": "stdout",
     "output_type": "stream",
     "text": [
      "Training:\n",
      "0.8448275862068966\n",
      "Testing:\n",
      "0.9285714285714286\n"
     ]
    }
   ],
   "source": [
    "print(\"Training:\")\n",
    "print(naiveBayes.score(train_df.drop(['poi'], axis=1), train_df['poi']))\n",
    "print(\"Testing:\")\n",
    "print(naiveBayes.score(test_df.drop(['poi'], axis=1), test_df['poi']))"
   ]
  },
  {
   "cell_type": "code",
   "execution_count": 21,
   "metadata": {},
   "outputs": [],
   "source": [
    "predictions = naiveBayes.predict(test_df.drop(['poi'], axis=1))"
   ]
  },
  {
   "cell_type": "code",
   "execution_count": 22,
   "metadata": {},
   "outputs": [
    {
     "name": "stdout",
     "output_type": "stream",
     "text": [
      "Accuracy:\n",
      "0.9285714285714286\n",
      "Precision:\n",
      "1.0\n",
      "Recall:\n",
      "0.5\n",
      "F-measures:\n",
      "0.6666666666666666\n"
     ]
    }
   ],
   "source": [
    "print('Accuracy:')\n",
    "print(sklearn.metrics.accuracy_score(test_df['poi'], predictions))\n",
    "print('Precision:')\n",
    "print(sklearn.metrics.precision_score(test_df['poi'], predictions))\n",
    "print('Recall:')\n",
    "print(sklearn.metrics.recall_score(test_df['poi'], predictions))\n",
    "print('F-measures:')\n",
    "print(sklearn.metrics.f1_score(test_df['poi'], predictions))"
   ]
  },
  {
   "cell_type": "code",
   "execution_count": 23,
   "metadata": {},
   "outputs": [
    {
     "data": {
      "image/png": "[encoded data removed]",
      "text/plain": [
       "<Figure size 432x288 with 1 Axes>"
      ]
     },
     "metadata": {
      "needs_background": "light"
     },
     "output_type": "display_data"
    }
   ],
   "source": [
    "plotConfusionMatrix(naiveBayes, train_df, 'poi')"
   ]
  },
  {
   "cell_type": "code",
   "execution_count": 24,
   "metadata": {},
   "outputs": [
    {
     "data": {
      "image/png": "[encoded data removed]",
      "text/plain": [
       "<Figure size 432x288 with 1 Axes>"
      ]
     },
     "metadata": {
      "needs_background": "light"
     },
     "output_type": "display_data"
    }
   ],
   "source": [
    "plotConfusionMatrix(naiveBayes, test_df, 'poi')"
   ]
  },
  {
   "cell_type": "code",
   "execution_count": 25,
   "metadata": {},
   "outputs": [
    {
     "data": {
      "image/png": "[encoded data removed]",
      "text/plain": [
       "<Figure size 720x720 with 1 Axes>"
      ]
     },
     "metadata": {
      "needs_background": "light"
     },
     "output_type": "display_data"
    }
   ],
   "source": [
    "plotMultiROC(naiveBayes, train_df, 'poi')"
   ]
  },
  {
   "cell_type": "code",
   "execution_count": 26,
   "metadata": {},
   "outputs": [
    {
     "data": {
      "image/png": "[encoded data removed]",
      "text/plain": [
       "<Figure size 720x720 with 1 Axes>"
      ]
     },
     "metadata": {
      "needs_background": "light"
     },
     "output_type": "display_data"
    }
   ],
   "source": [
    "plotMultiROC(naiveBayes, test_df, 'poi')"
   ]
  },
  {
   "cell_type": "markdown",
   "metadata": {},
   "source": [
    "### SVM\n",
    "\n",
    "A Support Vector Machine (SVM) is a supervised machine learning algorithm that can be employed for classification problems. Its advantage in this case is that SVM works well on smaller cleaner datasets. "
   ]
  },
  {
   "cell_type": "markdown",
   "metadata": {},
   "source": [
    "#### Select the best features"
   ]
  },
  {
   "cell_type": "code",
   "execution_count": 27,
   "metadata": {},
   "outputs": [
    {
     "name": "stdout",
     "output_type": "stream",
     "text": [
      "Features selected:\n",
      "['salary',\n",
      " 'bonus',\n",
      " 'long_term_incentive',\n",
      " 'deferred_income',\n",
      " 'stock_op_exercised',\n",
      " 'total_stock_value',\n",
      " 'bonus_salary_ratio',\n",
      " 'from_poi',\n",
      " 'from_poi_ratio_2',\n",
      " 'to_poi_ratio_2']\n"
     ]
    }
   ],
   "source": [
    "selector = SelectKBest(f_classif, k=10).fit(features, labels)\n",
    "scores = zip(cols[1:], selector.scores_)\n",
    "sorted_scores = sorted(scores, key=lambda x: x[1], reverse = True)\n",
    "\n",
    "print ('Features selected:')\n",
    "features_selected=[cols[i+1] for i in selector.get_support(indices=True)]\n",
    "pprint.pprint(features_selected)"
   ]
  },
  {
   "cell_type": "code",
   "execution_count": 28,
   "metadata": {},
   "outputs": [
    {
     "data": {
      "text/plain": [
       "['total_stock_value',\n",
       " 'salary',\n",
       " 'stock_op_exercised',\n",
       " 'bonus',\n",
       " 'deferred_income',\n",
       " 'from_poi',\n",
       " 'to_poi_ratio_2',\n",
       " 'from_poi_ratio_2',\n",
       " 'bonus_salary_ratio',\n",
       " 'long_term_incentive']"
      ]
     },
     "execution_count": 28,
     "metadata": {},
     "output_type": "execute_result"
    }
   ],
   "source": [
    "feature_importance.feature_name.tolist()[:10]"
   ]
  },
  {
   "cell_type": "markdown",
   "metadata": {},
   "source": [
    "By comparing the top 10 features selected by selectKBest method and the top 10 features selected for Naive Bayes classifier, we found that although the top 10 feature in each case received different importance scores and thus different rankings, the features in two top 10 lists are the same. Therefore, we will keep use these features for SVM classifier: salary, bonus, long_term_incentive, deferred_income, stock_op_exercised, total_stock_value, bonus_salary_ratio, from_poi, from_poi_ratio_2, to_poi_ratio_2. "
   ]
  },
  {
   "cell_type": "markdown",
   "metadata": {},
   "source": [
    "#### Run and Evaluation"
   ]
  },
  {
   "cell_type": "code",
   "execution_count": 29,
   "metadata": {},
   "outputs": [
    {
     "name": "stdout",
     "output_type": "stream",
     "text": [
      "SVM model evaluation\n",
      "accuracy: 0.8510344827586206\n",
      "precision: 0.1716666666666667\n",
      "recall: 0.14966666666666667\n",
      "kernel = 'sigmoid', \n",
      "gamma = 1, \n",
      "C = 1, \n"
     ]
    }
   ],
   "source": [
    "# GridSearchCV to find the best parameters\n",
    "features, labels = separateLabels(my_dataset, final_features)\n",
    "svm_clf = svm.SVC()\n",
    "svm_param = {'kernel':('linear', 'rbf', 'sigmoid', 'poly'),\n",
    "             'gamma': [1, 0.1, 0.01, 0.001, 0.0001],\n",
    "             'C': [0.1, 1, 10, 100, 1000]}\n",
    "svm_grid_search = GridSearchCV(estimator = svm_clf, param_grid = svm_param)\n",
    "\n",
    "print(\"SVM model evaluation\")\n",
    "tune_params(svm_grid_search, features, labels, svm_param)"
   ]
  },
  {
   "cell_type": "code",
   "execution_count": 30,
   "metadata": {},
   "outputs": [],
   "source": [
    "# Fit the model with tuned parameters\n",
    "svm = svm_grid_search.fit(train_df.drop(['poi'], axis=1), train_df['poi'])"
   ]
  },
  {
   "cell_type": "code",
   "execution_count": 31,
   "metadata": {},
   "outputs": [
    {
     "name": "stdout",
     "output_type": "stream",
     "text": [
      "Training:\n",
      "0.9655172413793104\n",
      "Testing:\n",
      "0.8928571428571429\n"
     ]
    }
   ],
   "source": [
    "print(\"Training:\")\n",
    "print(svm.score(train_df.drop(['poi'], axis=1), train_df['poi']))\n",
    "print(\"Testing:\")\n",
    "print(svm.score(test_df.drop(['poi'], axis=1), test_df['poi']))"
   ]
  },
  {
   "cell_type": "code",
   "execution_count": 32,
   "metadata": {},
   "outputs": [],
   "source": [
    "predictions = svm.predict(test_df.drop(['poi'], axis=1))"
   ]
  },
  {
   "cell_type": "code",
   "execution_count": 33,
   "metadata": {},
   "outputs": [
    {
     "name": "stdout",
     "output_type": "stream",
     "text": [
      "Accuracy:\n",
      "0.8928571428571429\n",
      "Precision:\n",
      "0.6\n",
      "Recall:\n",
      "0.75\n",
      "F-measures:\n",
      "0.6666666666666665\n"
     ]
    }
   ],
   "source": [
    "print('Accuracy:')\n",
    "print(sklearn.metrics.accuracy_score(test_df['poi'], predictions))\n",
    "print('Precision:')\n",
    "print(sklearn.metrics.precision_score(test_df['poi'], predictions))\n",
    "print('Recall:')\n",
    "print(sklearn.metrics.recall_score(test_df['poi'], predictions))\n",
    "print('F-measures:')\n",
    "print(sklearn.metrics.f1_score(test_df['poi'], predictions))"
   ]
  },
  {
   "cell_type": "code",
   "execution_count": 34,
   "metadata": {},
   "outputs": [
    {
     "data": {
      "image/png": "[encoded data removed]",
      "text/plain": [
       "<Figure size 432x288 with 1 Axes>"
      ]
     },
     "metadata": {
      "needs_background": "light"
     },
     "output_type": "display_data"
    }
   ],
   "source": [
    "plotConfusionMatrix(svm, train_df, 'poi')"
   ]
  },
  {
   "cell_type": "code",
   "execution_count": 35,
   "metadata": {
    "scrolled": false
   },
   "outputs": [
    {
     "data": {
      "image/png": "[encoded data removed]",
      "text/plain": [
       "<Figure size 432x288 with 1 Axes>"
      ]
     },
     "metadata": {
      "needs_background": "light"
     },
     "output_type": "display_data"
    }
   ],
   "source": [
    "plotConfusionMatrix(svm, test_df, 'poi')"
   ]
  },
  {
   "cell_type": "markdown",
   "metadata": {},
   "source": [
    "### Logistic Regression with PCA"
   ]
  },
  {
   "cell_type": "code",
   "execution_count": 56,
   "metadata": {},
   "outputs": [],
   "source": [
    "# Implement PCA\n",
    "pca = sklearn.decomposition.PCA()\n",
    "reduced_data = pca.fit_transform(features)\n",
    "scaled_df['pca'] = [r for r in reduced_data]\n",
    "scaled_df['pca_reduced_10'] = scaled_df['pca'].apply(lambda x: x[:10])"
   ]
  },
  {
   "cell_type": "code",
   "execution_count": 57,
   "metadata": {},
   "outputs": [],
   "source": [
    "train_df, test_df = trainTestSplit(scaled_df)"
   ]
  },
  {
   "cell_type": "code",
   "execution_count": 58,
   "metadata": {},
   "outputs": [
    {
     "name": "stdout",
     "output_type": "stream",
     "text": [
      "Training: \n",
      "0.9224137931034483\n",
      "Testing: \n",
      "0.9285714285714286\n"
     ]
    }
   ],
   "source": [
    "# Fit a logistic regression\n",
    "logistic = sklearn.linear_model.LogisticRegression()\n",
    "logistic.fit(np.stack(train_df['pca_reduced_10'], axis=0), train_df['poi'])\n",
    "\n",
    "print(\"Training: \")\n",
    "print(logistic.score(np.stack(train_df['pca_reduced_10'], axis=0), train_df['poi']))\n",
    "print(\"Testing: \")\n",
    "print(logistic.score(np.stack(test_df['pca_reduced_10'], axis=0), test_df['poi']))"
   ]
  },
  {
   "cell_type": "code",
   "execution_count": 59,
   "metadata": {},
   "outputs": [
    {
     "name": "stdout",
     "output_type": "stream",
     "text": [
      "Accuracy:\n",
      "0.9285714285714286\n",
      "Precision:\n",
      "0.6666666666666666\n",
      "Recall:\n",
      "0.6666666666666666\n",
      "F-measures:\n",
      "0.6666666666666666\n"
     ]
    }
   ],
   "source": [
    "# More evaluations on predictions\n",
    "test_df['logistic_predict'] = logistic.predict(np.stack(test_df['pca_reduced_10'], axis=0))\n",
    "\n",
    "print('Accuracy:')\n",
    "print(sklearn.metrics.accuracy_score(test_df['poi'], test_df['logistic_predict']))\n",
    "print('Precision:')\n",
    "print(sklearn.metrics.precision_score(test_df['poi'], test_df['logistic_predict']))\n",
    "print('Recall:')\n",
    "print(sklearn.metrics.recall_score(test_df['poi'], test_df['logistic_predict']))\n",
    "print('F-measures:')\n",
    "print(sklearn.metrics.f1_score(test_df['poi'], test_df['logistic_predict']))"
   ]
  },
  {
   "cell_type": "code",
   "execution_count": 60,
   "metadata": {},
   "outputs": [
    {
     "data": {
      "image/png": "[encoded data removed]",
      "text/plain": [
       "<Figure size 432x288 with 1 Axes>"
      ]
     },
     "metadata": {
      "needs_background": "light"
     },
     "output_type": "display_data"
    }
   ],
   "source": [
    "plotConfusionMatrix(logistic, train_df, 'poi', 'pca_reduced_10')"
   ]
  },
  {
   "cell_type": "code",
   "execution_count": 61,
   "metadata": {},
   "outputs": [
    {
     "data": {
      "image/png": "[encoded data removed]",
      "text/plain": [
       "<Figure size 432x288 with 1 Axes>"
      ]
     },
     "metadata": {
      "needs_background": "light"
     },
     "output_type": "display_data"
    }
   ],
   "source": [
    "plotConfusionMatrix(logistic, test_df, 'poi', 'pca_reduced_10')"
   ]
  },
  {
   "cell_type": "code",
   "execution_count": 62,
   "metadata": {},
   "outputs": [
    {
     "data": {
      "image/png": "[encoded data removed]",
      "text/plain": [
       "<Figure size 720x720 with 1 Axes>"
      ]
     },
     "metadata": {
      "needs_background": "light"
     },
     "output_type": "display_data"
    }
   ],
   "source": [
    "plotMultiROC(logistic, train_df, 'poi', 'pca_reduced_10')"
   ]
  },
  {
   "cell_type": "code",
   "execution_count": 63,
   "metadata": {},
   "outputs": [
    {
     "data": {
      "image/png": "[encoded data removed]",
      "text/plain": [
       "<Figure size 720x720 with 1 Axes>"
      ]
     },
     "metadata": {
      "needs_background": "light"
     },
     "output_type": "display_data"
    }
   ],
   "source": [
    "plotMultiROC(logistic, test_df, 'poi', 'pca_reduced_10')"
   ]
  },
  {
   "cell_type": "markdown",
   "metadata": {},
   "source": [
    "### Conclusion"
   ]
  },
  {
   "cell_type": "code",
   "execution_count": 66,
   "metadata": {
    "scrolled": true
   },
   "outputs": [
    {
     "data": {
      "text/html": [
       "<div>\n",
       "<style scoped>\n",
       "    .dataframe tbody tr th:only-of-type {\n",
       "        vertical-align: middle;\n",
       "    }\n",
       "\n",
       "    .dataframe tbody tr th {\n",
       "        vertical-align: top;\n",
       "    }\n",
       "\n",
       "    .dataframe thead th {\n",
       "        text-align: right;\n",
       "    }\n",
       "</style>\n",
       "<table border=\"1\" class=\"dataframe\">\n",
       "  <thead>\n",
       "    <tr style=\"text-align: right;\">\n",
       "      <th></th>\n",
       "      <th>model</th>\n",
       "      <th>train_accuracy</th>\n",
       "      <th>test_accuracy</th>\n",
       "      <th>precision</th>\n",
       "      <th>recall</th>\n",
       "      <th>F1</th>\n",
       "    </tr>\n",
       "  </thead>\n",
       "  <tbody>\n",
       "    <tr>\n",
       "      <th>0</th>\n",
       "      <td>Logistic Regression</td>\n",
       "      <td>0.9224</td>\n",
       "      <td>0.9286</td>\n",
       "      <td>0.6666</td>\n",
       "      <td>0.6666</td>\n",
       "      <td>0.6666</td>\n",
       "    </tr>\n",
       "    <tr>\n",
       "      <th>1</th>\n",
       "      <td>Naive Bayes</td>\n",
       "      <td>0.8448</td>\n",
       "      <td>0.9286</td>\n",
       "      <td>1.0000</td>\n",
       "      <td>0.5000</td>\n",
       "      <td>0.6666</td>\n",
       "    </tr>\n",
       "    <tr>\n",
       "      <th>2</th>\n",
       "      <td>SVM</td>\n",
       "      <td>0.9655</td>\n",
       "      <td>0.8929</td>\n",
       "      <td>0.6000</td>\n",
       "      <td>0.7500</td>\n",
       "      <td>0.6666</td>\n",
       "    </tr>\n",
       "  </tbody>\n",
       "</table>\n",
       "</div>"
      ],
      "text/plain": [
       "                 model  train_accuracy  test_accuracy  precision  recall  \\\n",
       "0  Logistic Regression          0.9224         0.9286     0.6666  0.6666   \n",
       "1          Naive Bayes          0.8448         0.9286     1.0000  0.5000   \n",
       "2                  SVM          0.9655         0.8929     0.6000  0.7500   \n",
       "\n",
       "       F1  \n",
       "0  0.6666  \n",
       "1  0.6666  \n",
       "2  0.6666  "
      ]
     },
     "execution_count": 66,
     "metadata": {},
     "output_type": "execute_result"
    }
   ],
   "source": [
    "pd.read_csv('evaluation_results.csv')"
   ]
  },
  {
   "cell_type": "markdown",
   "metadata": {},
   "source": [
    "From the evaluaitons, I found both classifiers received high accuracy from both training and testing dataset. Compared to logistic regression model with PCA from last week, both models did not perform better than the regression model.\n",
    "\n",
    "From the chart, we find although all three classifiers received high accuracy. Their recall, precision, and F1 values are not as high as accuracy. This can be explained by the size of the testing dataset. Because our Enron dataset is comparably small, the testing dataset contains only limited true values. Recall and precision measures the number of True Positives in the predictions, which might be affected by the dataset size. "
   ]
  },
  {
   "cell_type": "code",
   "execution_count": null,
   "metadata": {},
   "outputs": [],
   "source": []
  }
 ],
 "metadata": {
  "kernelspec": {
   "display_name": "Python 3",
   "language": "python",
   "name": "python3"
  },
  "language_info": {
   "codemirror_mode": {
    "name": "ipython",
    "version": 3
   },
   "file_extension": ".py",
   "mimetype": "text/x-python",
   "name": "python",
   "nbconvert_exporter": "python",
   "pygments_lexer": "ipython3",
   "version": "3.8.5"
  }
 },
 "nbformat": 4,
 "nbformat_minor": 4
}
