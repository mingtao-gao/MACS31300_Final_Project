{
 "cells": [
  {
   "cell_type": "markdown",
   "metadata": {},
   "source": [
    "## Problem Set 3 - First Model Run\n",
    "Mingtao Gao"
   ]
  },
  {
   "cell_type": "markdown",
   "metadata": {},
   "source": [
    "In last week, we processed financial data and email metadata and visualized possible features for analysis. We identified the following features to be salient for our Machine Learning models: 1) salary, 2) bonus, 3) bonus-to-salary ratios, 4) # of emails from POIs, 5) # of emails to POI, 6) from_poi_ratio, 7) to_poi_ratio.\n",
    "\n",
    "For our final project, Ishan and I plan to run six different machine learning models and compare the results. In this assignment, I will construct logistic regression model with data we processed last week. I will first analyze feature importances and select the best features for prediction. Next, I will build logistic regression models in three different ways: \n",
    "1) use cross validation and parameter tuning to run the model with sklearn.  \n",
    "2) use Tensorflow to construct logistic regression model.  \n",
    "3) use PCA to reduce the variables and construct logisitc regression model with sklearn.  \n",
    "\n",
    "Logistic Regression is a machine learning classification algorithm that can used to predict the probability of a categorical dependent variable. The dependent variable is a binary variable, in this case, whether the insider is POI or non-POI. I will evaluate each model's performance based on accuracy, precision, and recall to decide which logistic model outperform the other two and will be used for final project."
   ]
  },
  {
   "cell_type": "code",
   "execution_count": 1,
   "metadata": {},
   "outputs": [],
   "source": [
    "import re\n",
    "import os\n",
    "import pprint\n",
    "import numpy as np\n",
    "import pandas as pd \n",
    "import matplotlib.pyplot as plt\n",
    "import matplotlib.colors\n",
    "import seaborn as sns\n",
    "\n",
    "import sklearn\n",
    "from sklearn.impute import SimpleImputer\n",
    "from sklearn.preprocessing import scale\n",
    "from sklearn.feature_selection import SelectKBest, f_classif\n",
    "from sklearn.model_selection import train_test_split\n",
    "from sklearn.model_selection import GridSearchCV\n",
    "from sklearn.linear_model import LogisticRegression\n",
    "from sklearn.metrics import accuracy_score, precision_score, recall_score\n",
    "\n",
    "import warnings\n",
    "warnings.filterwarnings(\"ignore\")\n",
    "from matplotlib.axes._axes import _log as matplotlib_axes_logger\n",
    "matplotlib_axes_logger.setLevel('ERROR')"
   ]
  },
  {
   "cell_type": "code",
   "execution_count": 2,
   "metadata": {},
   "outputs": [
    {
     "data": {
      "text/html": [
       "<div>\n",
       "<style scoped>\n",
       "    .dataframe tbody tr th:only-of-type {\n",
       "        vertical-align: middle;\n",
       "    }\n",
       "\n",
       "    .dataframe tbody tr th {\n",
       "        vertical-align: top;\n",
       "    }\n",
       "\n",
       "    .dataframe thead th {\n",
       "        text-align: right;\n",
       "    }\n",
       "</style>\n",
       "<table border=\"1\" class=\"dataframe\">\n",
       "  <thead>\n",
       "    <tr style=\"text-align: right;\">\n",
       "      <th></th>\n",
       "      <th>salary</th>\n",
       "      <th>bonus</th>\n",
       "      <th>long_term_incentive</th>\n",
       "      <th>deferred_income</th>\n",
       "      <th>deferral_payments</th>\n",
       "      <th>loan_advances</th>\n",
       "      <th>other</th>\n",
       "      <th>expenses</th>\n",
       "      <th>director_fees</th>\n",
       "      <th>total_payments</th>\n",
       "      <th>...</th>\n",
       "      <th>from_all</th>\n",
       "      <th>to_all</th>\n",
       "      <th>from_insider</th>\n",
       "      <th>to_insider</th>\n",
       "      <th>from_poi</th>\n",
       "      <th>to_poi</th>\n",
       "      <th>from_poi_ratio</th>\n",
       "      <th>to_poi_ratio</th>\n",
       "      <th>from_poi_ratio_2</th>\n",
       "      <th>to_poi_ratio_2</th>\n",
       "    </tr>\n",
       "    <tr>\n",
       "      <th>insider</th>\n",
       "      <th></th>\n",
       "      <th></th>\n",
       "      <th></th>\n",
       "      <th></th>\n",
       "      <th></th>\n",
       "      <th></th>\n",
       "      <th></th>\n",
       "      <th></th>\n",
       "      <th></th>\n",
       "      <th></th>\n",
       "      <th></th>\n",
       "      <th></th>\n",
       "      <th></th>\n",
       "      <th></th>\n",
       "      <th></th>\n",
       "      <th></th>\n",
       "      <th></th>\n",
       "      <th></th>\n",
       "      <th></th>\n",
       "      <th></th>\n",
       "      <th></th>\n",
       "    </tr>\n",
       "  </thead>\n",
       "  <tbody>\n",
       "    <tr>\n",
       "      <th>ALLEN, PHILLIP K</th>\n",
       "      <td>201955.0</td>\n",
       "      <td>4175000.0</td>\n",
       "      <td>304805.0</td>\n",
       "      <td>-3081055.0</td>\n",
       "      <td>2869717.0</td>\n",
       "      <td>0.0</td>\n",
       "      <td>152.0</td>\n",
       "      <td>13868.0</td>\n",
       "      <td>0.0</td>\n",
       "      <td>4484442.0</td>\n",
       "      <td>...</td>\n",
       "      <td>76</td>\n",
       "      <td>2099</td>\n",
       "      <td>13</td>\n",
       "      <td>83</td>\n",
       "      <td>0</td>\n",
       "      <td>24</td>\n",
       "      <td>0.000000</td>\n",
       "      <td>0.011434</td>\n",
       "      <td>0.000000</td>\n",
       "      <td>0.289157</td>\n",
       "    </tr>\n",
       "    <tr>\n",
       "      <th>BADUM, JAMES P</th>\n",
       "      <td>0.0</td>\n",
       "      <td>0.0</td>\n",
       "      <td>0.0</td>\n",
       "      <td>0.0</td>\n",
       "      <td>178980.0</td>\n",
       "      <td>0.0</td>\n",
       "      <td>0.0</td>\n",
       "      <td>3486.0</td>\n",
       "      <td>0.0</td>\n",
       "      <td>182466.0</td>\n",
       "      <td>...</td>\n",
       "      <td>0</td>\n",
       "      <td>0</td>\n",
       "      <td>0</td>\n",
       "      <td>0</td>\n",
       "      <td>0</td>\n",
       "      <td>0</td>\n",
       "      <td>NaN</td>\n",
       "      <td>NaN</td>\n",
       "      <td>NaN</td>\n",
       "      <td>NaN</td>\n",
       "    </tr>\n",
       "    <tr>\n",
       "      <th>BANNANTINE, JAMES M</th>\n",
       "      <td>477.0</td>\n",
       "      <td>0.0</td>\n",
       "      <td>0.0</td>\n",
       "      <td>-5104.0</td>\n",
       "      <td>0.0</td>\n",
       "      <td>0.0</td>\n",
       "      <td>864523.0</td>\n",
       "      <td>56301.0</td>\n",
       "      <td>0.0</td>\n",
       "      <td>916197.0</td>\n",
       "      <td>...</td>\n",
       "      <td>9</td>\n",
       "      <td>15</td>\n",
       "      <td>9</td>\n",
       "      <td>2</td>\n",
       "      <td>3</td>\n",
       "      <td>0</td>\n",
       "      <td>0.333333</td>\n",
       "      <td>0.000000</td>\n",
       "      <td>0.333333</td>\n",
       "      <td>0.000000</td>\n",
       "    </tr>\n",
       "    <tr>\n",
       "      <th>BAXTER, JOHN C</th>\n",
       "      <td>267102.0</td>\n",
       "      <td>1200000.0</td>\n",
       "      <td>1586055.0</td>\n",
       "      <td>-1386055.0</td>\n",
       "      <td>1295738.0</td>\n",
       "      <td>0.0</td>\n",
       "      <td>2660303.0</td>\n",
       "      <td>11200.0</td>\n",
       "      <td>0.0</td>\n",
       "      <td>5634343.0</td>\n",
       "      <td>...</td>\n",
       "      <td>0</td>\n",
       "      <td>0</td>\n",
       "      <td>0</td>\n",
       "      <td>0</td>\n",
       "      <td>0</td>\n",
       "      <td>0</td>\n",
       "      <td>NaN</td>\n",
       "      <td>NaN</td>\n",
       "      <td>NaN</td>\n",
       "      <td>NaN</td>\n",
       "    </tr>\n",
       "    <tr>\n",
       "      <th>BAY, FRANKLIN R</th>\n",
       "      <td>239671.0</td>\n",
       "      <td>400000.0</td>\n",
       "      <td>0.0</td>\n",
       "      <td>-201641.0</td>\n",
       "      <td>260455.0</td>\n",
       "      <td>0.0</td>\n",
       "      <td>69.0</td>\n",
       "      <td>129142.0</td>\n",
       "      <td>0.0</td>\n",
       "      <td>827696.0</td>\n",
       "      <td>...</td>\n",
       "      <td>4</td>\n",
       "      <td>1</td>\n",
       "      <td>0</td>\n",
       "      <td>1</td>\n",
       "      <td>0</td>\n",
       "      <td>0</td>\n",
       "      <td>0.000000</td>\n",
       "      <td>0.000000</td>\n",
       "      <td>NaN</td>\n",
       "      <td>0.000000</td>\n",
       "    </tr>\n",
       "  </tbody>\n",
       "</table>\n",
       "<p>5 rows × 28 columns</p>\n",
       "</div>"
      ],
      "text/plain": [
       "                       salary      bonus  long_term_incentive  \\\n",
       "insider                                                         \n",
       "ALLEN, PHILLIP K     201955.0  4175000.0             304805.0   \n",
       "BADUM, JAMES P            0.0        0.0                  0.0   \n",
       "BANNANTINE, JAMES M     477.0        0.0                  0.0   \n",
       "BAXTER, JOHN C       267102.0  1200000.0            1586055.0   \n",
       "BAY, FRANKLIN R      239671.0   400000.0                  0.0   \n",
       "\n",
       "                     deferred_income  deferral_payments  loan_advances  \\\n",
       "insider                                                                  \n",
       "ALLEN, PHILLIP K          -3081055.0          2869717.0            0.0   \n",
       "BADUM, JAMES P                   0.0           178980.0            0.0   \n",
       "BANNANTINE, JAMES M          -5104.0                0.0            0.0   \n",
       "BAXTER, JOHN C            -1386055.0          1295738.0            0.0   \n",
       "BAY, FRANKLIN R            -201641.0           260455.0            0.0   \n",
       "\n",
       "                         other  expenses  director_fees  total_payments  ...  \\\n",
       "insider                                                                  ...   \n",
       "ALLEN, PHILLIP K         152.0   13868.0            0.0       4484442.0  ...   \n",
       "BADUM, JAMES P             0.0    3486.0            0.0        182466.0  ...   \n",
       "BANNANTINE, JAMES M   864523.0   56301.0            0.0        916197.0  ...   \n",
       "BAXTER, JOHN C       2660303.0   11200.0            0.0       5634343.0  ...   \n",
       "BAY, FRANKLIN R           69.0  129142.0            0.0        827696.0  ...   \n",
       "\n",
       "                     from_all  to_all  from_insider  to_insider from_poi  \\\n",
       "insider                                                                    \n",
       "ALLEN, PHILLIP K           76    2099            13          83        0   \n",
       "BADUM, JAMES P              0       0             0           0        0   \n",
       "BANNANTINE, JAMES M         9      15             9           2        3   \n",
       "BAXTER, JOHN C              0       0             0           0        0   \n",
       "BAY, FRANKLIN R             4       1             0           1        0   \n",
       "\n",
       "                    to_poi  from_poi_ratio to_poi_ratio  from_poi_ratio_2  \\\n",
       "insider                                                                     \n",
       "ALLEN, PHILLIP K        24        0.000000     0.011434          0.000000   \n",
       "BADUM, JAMES P           0             NaN          NaN               NaN   \n",
       "BANNANTINE, JAMES M      0        0.333333     0.000000          0.333333   \n",
       "BAXTER, JOHN C           0             NaN          NaN               NaN   \n",
       "BAY, FRANKLIN R          0        0.000000     0.000000               NaN   \n",
       "\n",
       "                     to_poi_ratio_2  \n",
       "insider                              \n",
       "ALLEN, PHILLIP K           0.289157  \n",
       "BADUM, JAMES P                  NaN  \n",
       "BANNANTINE, JAMES M        0.000000  \n",
       "BAXTER, JOHN C                  NaN  \n",
       "BAY, FRANKLIN R            0.000000  \n",
       "\n",
       "[5 rows x 28 columns]"
      ]
     },
     "execution_count": 2,
     "metadata": {},
     "output_type": "execute_result"
    }
   ],
   "source": [
    "df = pd.read_csv('enron.csv', index_col = 0)\n",
    "df.head()"
   ]
  },
  {
   "cell_type": "markdown",
   "metadata": {},
   "source": [
    "### Pre-Processing\n",
    "\n",
    "From the dataframe, we found some values in from_poi_ratio, to_poi_ratio, from_poi_ratio_2, to_poi_ratio_2 are NaN becaue those denominators are 0. Therefore, I will replace those NaNs with the mean value of columns grouped by POI/non-POI. Because this dataset is already relatively small, dropping all NaNs will reduce its size further. So, I choose to replace with the mean."
   ]
  },
  {
   "cell_type": "code",
   "execution_count": 3,
   "metadata": {},
   "outputs": [
    {
     "data": {
      "text/html": [
       "<div>\n",
       "<style scoped>\n",
       "    .dataframe tbody tr th:only-of-type {\n",
       "        vertical-align: middle;\n",
       "    }\n",
       "\n",
       "    .dataframe tbody tr th {\n",
       "        vertical-align: top;\n",
       "    }\n",
       "\n",
       "    .dataframe thead th {\n",
       "        text-align: right;\n",
       "    }\n",
       "</style>\n",
       "<table border=\"1\" class=\"dataframe\">\n",
       "  <thead>\n",
       "    <tr style=\"text-align: right;\">\n",
       "      <th></th>\n",
       "      <th>salary</th>\n",
       "      <th>bonus</th>\n",
       "      <th>long_term_incentive</th>\n",
       "      <th>deferred_income</th>\n",
       "      <th>deferral_payments</th>\n",
       "      <th>loan_advances</th>\n",
       "      <th>other</th>\n",
       "      <th>expenses</th>\n",
       "      <th>director_fees</th>\n",
       "      <th>total_payments</th>\n",
       "      <th>...</th>\n",
       "      <th>from_all</th>\n",
       "      <th>to_all</th>\n",
       "      <th>from_insider</th>\n",
       "      <th>to_insider</th>\n",
       "      <th>from_poi</th>\n",
       "      <th>to_poi</th>\n",
       "      <th>from_poi_ratio</th>\n",
       "      <th>to_poi_ratio</th>\n",
       "      <th>from_poi_ratio_2</th>\n",
       "      <th>to_poi_ratio_2</th>\n",
       "    </tr>\n",
       "    <tr>\n",
       "      <th>insider</th>\n",
       "      <th></th>\n",
       "      <th></th>\n",
       "      <th></th>\n",
       "      <th></th>\n",
       "      <th></th>\n",
       "      <th></th>\n",
       "      <th></th>\n",
       "      <th></th>\n",
       "      <th></th>\n",
       "      <th></th>\n",
       "      <th></th>\n",
       "      <th></th>\n",
       "      <th></th>\n",
       "      <th></th>\n",
       "      <th></th>\n",
       "      <th></th>\n",
       "      <th></th>\n",
       "      <th></th>\n",
       "      <th></th>\n",
       "      <th></th>\n",
       "      <th></th>\n",
       "    </tr>\n",
       "  </thead>\n",
       "  <tbody>\n",
       "    <tr>\n",
       "      <th>BELDEN, TIMOTHY N</th>\n",
       "      <td>213999.0</td>\n",
       "      <td>5249999.0</td>\n",
       "      <td>0.0</td>\n",
       "      <td>-2334434.0</td>\n",
       "      <td>2144013.0</td>\n",
       "      <td>0.0</td>\n",
       "      <td>210698.0</td>\n",
       "      <td>17355.0</td>\n",
       "      <td>0.0</td>\n",
       "      <td>5501630.0</td>\n",
       "      <td>...</td>\n",
       "      <td>226</td>\n",
       "      <td>382</td>\n",
       "      <td>105</td>\n",
       "      <td>14</td>\n",
       "      <td>3</td>\n",
       "      <td>0</td>\n",
       "      <td>0.013274</td>\n",
       "      <td>0.000000</td>\n",
       "      <td>0.028571</td>\n",
       "      <td>0.000000</td>\n",
       "    </tr>\n",
       "    <tr>\n",
       "      <th>BOWEN JR, RAYMOND M</th>\n",
       "      <td>278601.0</td>\n",
       "      <td>1350000.0</td>\n",
       "      <td>974293.0</td>\n",
       "      <td>-833.0</td>\n",
       "      <td>0.0</td>\n",
       "      <td>0.0</td>\n",
       "      <td>1621.0</td>\n",
       "      <td>65907.0</td>\n",
       "      <td>0.0</td>\n",
       "      <td>2669589.0</td>\n",
       "      <td>...</td>\n",
       "      <td>25</td>\n",
       "      <td>17</td>\n",
       "      <td>17</td>\n",
       "      <td>0</td>\n",
       "      <td>6</td>\n",
       "      <td>0</td>\n",
       "      <td>0.240000</td>\n",
       "      <td>0.000000</td>\n",
       "      <td>0.352941</td>\n",
       "      <td>0.438452</td>\n",
       "    </tr>\n",
       "    <tr>\n",
       "      <th>CALGER, CHRISTOPHER F</th>\n",
       "      <td>240189.0</td>\n",
       "      <td>1250000.0</td>\n",
       "      <td>375304.0</td>\n",
       "      <td>-262500.0</td>\n",
       "      <td>0.0</td>\n",
       "      <td>0.0</td>\n",
       "      <td>486.0</td>\n",
       "      <td>35818.0</td>\n",
       "      <td>0.0</td>\n",
       "      <td>1639297.0</td>\n",
       "      <td>...</td>\n",
       "      <td>110</td>\n",
       "      <td>102</td>\n",
       "      <td>39</td>\n",
       "      <td>24</td>\n",
       "      <td>20</td>\n",
       "      <td>2</td>\n",
       "      <td>0.181818</td>\n",
       "      <td>0.019608</td>\n",
       "      <td>0.512821</td>\n",
       "      <td>0.083333</td>\n",
       "    </tr>\n",
       "    <tr>\n",
       "      <th>CAUSEY, RICHARD A</th>\n",
       "      <td>415189.0</td>\n",
       "      <td>1000000.0</td>\n",
       "      <td>350000.0</td>\n",
       "      <td>-235000.0</td>\n",
       "      <td>0.0</td>\n",
       "      <td>0.0</td>\n",
       "      <td>307895.0</td>\n",
       "      <td>30674.0</td>\n",
       "      <td>0.0</td>\n",
       "      <td>1868758.0</td>\n",
       "      <td>...</td>\n",
       "      <td>70</td>\n",
       "      <td>37</td>\n",
       "      <td>49</td>\n",
       "      <td>0</td>\n",
       "      <td>3</td>\n",
       "      <td>0</td>\n",
       "      <td>0.042857</td>\n",
       "      <td>0.000000</td>\n",
       "      <td>0.061224</td>\n",
       "      <td>0.438452</td>\n",
       "    </tr>\n",
       "    <tr>\n",
       "      <th>COLWELL, WESLEY</th>\n",
       "      <td>288542.0</td>\n",
       "      <td>1200000.0</td>\n",
       "      <td>0.0</td>\n",
       "      <td>-144062.0</td>\n",
       "      <td>27610.0</td>\n",
       "      <td>0.0</td>\n",
       "      <td>101740.0</td>\n",
       "      <td>16514.0</td>\n",
       "      <td>0.0</td>\n",
       "      <td>1490344.0</td>\n",
       "      <td>...</td>\n",
       "      <td>64</td>\n",
       "      <td>18</td>\n",
       "      <td>42</td>\n",
       "      <td>2</td>\n",
       "      <td>20</td>\n",
       "      <td>0</td>\n",
       "      <td>0.312500</td>\n",
       "      <td>0.000000</td>\n",
       "      <td>0.476190</td>\n",
       "      <td>0.000000</td>\n",
       "    </tr>\n",
       "  </tbody>\n",
       "</table>\n",
       "<p>5 rows × 28 columns</p>\n",
       "</div>"
      ],
      "text/plain": [
       "                         salary      bonus  long_term_incentive  \\\n",
       "insider                                                           \n",
       "BELDEN, TIMOTHY N      213999.0  5249999.0                  0.0   \n",
       "BOWEN JR, RAYMOND M    278601.0  1350000.0             974293.0   \n",
       "CALGER, CHRISTOPHER F  240189.0  1250000.0             375304.0   \n",
       "CAUSEY, RICHARD A      415189.0  1000000.0             350000.0   \n",
       "COLWELL, WESLEY        288542.0  1200000.0                  0.0   \n",
       "\n",
       "                       deferred_income  deferral_payments  loan_advances  \\\n",
       "insider                                                                    \n",
       "BELDEN, TIMOTHY N           -2334434.0          2144013.0            0.0   \n",
       "BOWEN JR, RAYMOND M             -833.0                0.0            0.0   \n",
       "CALGER, CHRISTOPHER F        -262500.0                0.0            0.0   \n",
       "CAUSEY, RICHARD A            -235000.0                0.0            0.0   \n",
       "COLWELL, WESLEY              -144062.0            27610.0            0.0   \n",
       "\n",
       "                          other  expenses  director_fees  total_payments  ...  \\\n",
       "insider                                                                   ...   \n",
       "BELDEN, TIMOTHY N      210698.0   17355.0            0.0       5501630.0  ...   \n",
       "BOWEN JR, RAYMOND M      1621.0   65907.0            0.0       2669589.0  ...   \n",
       "CALGER, CHRISTOPHER F     486.0   35818.0            0.0       1639297.0  ...   \n",
       "CAUSEY, RICHARD A      307895.0   30674.0            0.0       1868758.0  ...   \n",
       "COLWELL, WESLEY        101740.0   16514.0            0.0       1490344.0  ...   \n",
       "\n",
       "                       from_all  to_all  from_insider  to_insider from_poi  \\\n",
       "insider                                                                      \n",
       "BELDEN, TIMOTHY N           226     382           105          14        3   \n",
       "BOWEN JR, RAYMOND M          25      17            17           0        6   \n",
       "CALGER, CHRISTOPHER F       110     102            39          24       20   \n",
       "CAUSEY, RICHARD A            70      37            49           0        3   \n",
       "COLWELL, WESLEY              64      18            42           2       20   \n",
       "\n",
       "                      to_poi  from_poi_ratio to_poi_ratio  from_poi_ratio_2  \\\n",
       "insider                                                                       \n",
       "BELDEN, TIMOTHY N          0        0.013274     0.000000          0.028571   \n",
       "BOWEN JR, RAYMOND M        0        0.240000     0.000000          0.352941   \n",
       "CALGER, CHRISTOPHER F      2        0.181818     0.019608          0.512821   \n",
       "CAUSEY, RICHARD A          0        0.042857     0.000000          0.061224   \n",
       "COLWELL, WESLEY            0        0.312500     0.000000          0.476190   \n",
       "\n",
       "                       to_poi_ratio_2  \n",
       "insider                                \n",
       "BELDEN, TIMOTHY N            0.000000  \n",
       "BOWEN JR, RAYMOND M          0.438452  \n",
       "CALGER, CHRISTOPHER F        0.083333  \n",
       "CAUSEY, RICHARD A            0.438452  \n",
       "COLWELL, WESLEY              0.000000  \n",
       "\n",
       "[5 rows x 28 columns]"
      ]
     },
     "execution_count": 3,
     "metadata": {},
     "output_type": "execute_result"
    }
   ],
   "source": [
    "imputer = SimpleImputer(missing_values=np.nan, strategy='mean')\n",
    "email_ratios = ['from_poi_ratio', 'to_poi_ratio', \n",
    "                'from_poi_ratio_2', 'to_poi_ratio_2']\n",
    "\n",
    "# Group by POI or non-POI\n",
    "df_poi = df[df['POI'] == 'Yes']\n",
    "df_nonpoi = df[df['POI'] == 'No']\n",
    "\n",
    "# Replace NaN email data with the mean\n",
    "df_poi.loc[:, email_ratios] = imputer.fit_transform(df_poi.loc[:, email_ratios])\n",
    "df_nonpoi.loc[:, email_ratios] = imputer.fit_transform(df_nonpoi.loc[:, email_ratios])\n",
    "df = df_poi.append(df_nonpoi)\n",
    "df.head()"
   ]
  },
  {
   "cell_type": "code",
   "execution_count": 4,
   "metadata": {},
   "outputs": [
    {
     "data": {
      "text/html": [
       "<div>\n",
       "<style scoped>\n",
       "    .dataframe tbody tr th:only-of-type {\n",
       "        vertical-align: middle;\n",
       "    }\n",
       "\n",
       "    .dataframe tbody tr th {\n",
       "        vertical-align: top;\n",
       "    }\n",
       "\n",
       "    .dataframe thead th {\n",
       "        text-align: right;\n",
       "    }\n",
       "</style>\n",
       "<table border=\"1\" class=\"dataframe\">\n",
       "  <thead>\n",
       "    <tr style=\"text-align: right;\">\n",
       "      <th></th>\n",
       "      <th>poi</th>\n",
       "      <th>salary</th>\n",
       "      <th>bonus</th>\n",
       "      <th>long_term_incentive</th>\n",
       "      <th>deferred_income</th>\n",
       "      <th>deferral_payments</th>\n",
       "      <th>loan_advances</th>\n",
       "      <th>other</th>\n",
       "      <th>expenses</th>\n",
       "      <th>director_fees</th>\n",
       "      <th>...</th>\n",
       "      <th>from_all</th>\n",
       "      <th>to_all</th>\n",
       "      <th>from_insider</th>\n",
       "      <th>to_insider</th>\n",
       "      <th>from_poi</th>\n",
       "      <th>to_poi</th>\n",
       "      <th>from_poi_ratio</th>\n",
       "      <th>to_poi_ratio</th>\n",
       "      <th>from_poi_ratio_2</th>\n",
       "      <th>to_poi_ratio_2</th>\n",
       "    </tr>\n",
       "    <tr>\n",
       "      <th>insider</th>\n",
       "      <th></th>\n",
       "      <th></th>\n",
       "      <th></th>\n",
       "      <th></th>\n",
       "      <th></th>\n",
       "      <th></th>\n",
       "      <th></th>\n",
       "      <th></th>\n",
       "      <th></th>\n",
       "      <th></th>\n",
       "      <th></th>\n",
       "      <th></th>\n",
       "      <th></th>\n",
       "      <th></th>\n",
       "      <th></th>\n",
       "      <th></th>\n",
       "      <th></th>\n",
       "      <th></th>\n",
       "      <th></th>\n",
       "      <th></th>\n",
       "      <th></th>\n",
       "    </tr>\n",
       "  </thead>\n",
       "  <tbody>\n",
       "    <tr>\n",
       "      <th>BELDEN, TIMOTHY N</th>\n",
       "      <td>True</td>\n",
       "      <td>213999.0</td>\n",
       "      <td>5249999.0</td>\n",
       "      <td>0.0</td>\n",
       "      <td>-2334434.0</td>\n",
       "      <td>2144013.0</td>\n",
       "      <td>0.0</td>\n",
       "      <td>210698.0</td>\n",
       "      <td>17355.0</td>\n",
       "      <td>0.0</td>\n",
       "      <td>...</td>\n",
       "      <td>226</td>\n",
       "      <td>382</td>\n",
       "      <td>105</td>\n",
       "      <td>14</td>\n",
       "      <td>3</td>\n",
       "      <td>0</td>\n",
       "      <td>0.013274</td>\n",
       "      <td>0.000000</td>\n",
       "      <td>0.028571</td>\n",
       "      <td>0.000000</td>\n",
       "    </tr>\n",
       "    <tr>\n",
       "      <th>BOWEN JR, RAYMOND M</th>\n",
       "      <td>True</td>\n",
       "      <td>278601.0</td>\n",
       "      <td>1350000.0</td>\n",
       "      <td>974293.0</td>\n",
       "      <td>-833.0</td>\n",
       "      <td>0.0</td>\n",
       "      <td>0.0</td>\n",
       "      <td>1621.0</td>\n",
       "      <td>65907.0</td>\n",
       "      <td>0.0</td>\n",
       "      <td>...</td>\n",
       "      <td>25</td>\n",
       "      <td>17</td>\n",
       "      <td>17</td>\n",
       "      <td>0</td>\n",
       "      <td>6</td>\n",
       "      <td>0</td>\n",
       "      <td>0.240000</td>\n",
       "      <td>0.000000</td>\n",
       "      <td>0.352941</td>\n",
       "      <td>0.438452</td>\n",
       "    </tr>\n",
       "    <tr>\n",
       "      <th>CALGER, CHRISTOPHER F</th>\n",
       "      <td>True</td>\n",
       "      <td>240189.0</td>\n",
       "      <td>1250000.0</td>\n",
       "      <td>375304.0</td>\n",
       "      <td>-262500.0</td>\n",
       "      <td>0.0</td>\n",
       "      <td>0.0</td>\n",
       "      <td>486.0</td>\n",
       "      <td>35818.0</td>\n",
       "      <td>0.0</td>\n",
       "      <td>...</td>\n",
       "      <td>110</td>\n",
       "      <td>102</td>\n",
       "      <td>39</td>\n",
       "      <td>24</td>\n",
       "      <td>20</td>\n",
       "      <td>2</td>\n",
       "      <td>0.181818</td>\n",
       "      <td>0.019608</td>\n",
       "      <td>0.512821</td>\n",
       "      <td>0.083333</td>\n",
       "    </tr>\n",
       "    <tr>\n",
       "      <th>CAUSEY, RICHARD A</th>\n",
       "      <td>True</td>\n",
       "      <td>415189.0</td>\n",
       "      <td>1000000.0</td>\n",
       "      <td>350000.0</td>\n",
       "      <td>-235000.0</td>\n",
       "      <td>0.0</td>\n",
       "      <td>0.0</td>\n",
       "      <td>307895.0</td>\n",
       "      <td>30674.0</td>\n",
       "      <td>0.0</td>\n",
       "      <td>...</td>\n",
       "      <td>70</td>\n",
       "      <td>37</td>\n",
       "      <td>49</td>\n",
       "      <td>0</td>\n",
       "      <td>3</td>\n",
       "      <td>0</td>\n",
       "      <td>0.042857</td>\n",
       "      <td>0.000000</td>\n",
       "      <td>0.061224</td>\n",
       "      <td>0.438452</td>\n",
       "    </tr>\n",
       "    <tr>\n",
       "      <th>COLWELL, WESLEY</th>\n",
       "      <td>True</td>\n",
       "      <td>288542.0</td>\n",
       "      <td>1200000.0</td>\n",
       "      <td>0.0</td>\n",
       "      <td>-144062.0</td>\n",
       "      <td>27610.0</td>\n",
       "      <td>0.0</td>\n",
       "      <td>101740.0</td>\n",
       "      <td>16514.0</td>\n",
       "      <td>0.0</td>\n",
       "      <td>...</td>\n",
       "      <td>64</td>\n",
       "      <td>18</td>\n",
       "      <td>42</td>\n",
       "      <td>2</td>\n",
       "      <td>20</td>\n",
       "      <td>0</td>\n",
       "      <td>0.312500</td>\n",
       "      <td>0.000000</td>\n",
       "      <td>0.476190</td>\n",
       "      <td>0.000000</td>\n",
       "    </tr>\n",
       "  </tbody>\n",
       "</table>\n",
       "<p>5 rows × 26 columns</p>\n",
       "</div>"
      ],
      "text/plain": [
       "                        poi    salary      bonus  long_term_incentive  \\\n",
       "insider                                                                 \n",
       "BELDEN, TIMOTHY N      True  213999.0  5249999.0                  0.0   \n",
       "BOWEN JR, RAYMOND M    True  278601.0  1350000.0             974293.0   \n",
       "CALGER, CHRISTOPHER F  True  240189.0  1250000.0             375304.0   \n",
       "CAUSEY, RICHARD A      True  415189.0  1000000.0             350000.0   \n",
       "COLWELL, WESLEY        True  288542.0  1200000.0                  0.0   \n",
       "\n",
       "                       deferred_income  deferral_payments  loan_advances  \\\n",
       "insider                                                                    \n",
       "BELDEN, TIMOTHY N           -2334434.0          2144013.0            0.0   \n",
       "BOWEN JR, RAYMOND M             -833.0                0.0            0.0   \n",
       "CALGER, CHRISTOPHER F        -262500.0                0.0            0.0   \n",
       "CAUSEY, RICHARD A            -235000.0                0.0            0.0   \n",
       "COLWELL, WESLEY              -144062.0            27610.0            0.0   \n",
       "\n",
       "                          other  expenses  director_fees  ...  from_all  \\\n",
       "insider                                                   ...             \n",
       "BELDEN, TIMOTHY N      210698.0   17355.0            0.0  ...       226   \n",
       "BOWEN JR, RAYMOND M      1621.0   65907.0            0.0  ...        25   \n",
       "CALGER, CHRISTOPHER F     486.0   35818.0            0.0  ...       110   \n",
       "CAUSEY, RICHARD A      307895.0   30674.0            0.0  ...        70   \n",
       "COLWELL, WESLEY        101740.0   16514.0            0.0  ...        64   \n",
       "\n",
       "                       to_all  from_insider  to_insider  from_poi  to_poi  \\\n",
       "insider                                                                     \n",
       "BELDEN, TIMOTHY N         382           105          14         3       0   \n",
       "BOWEN JR, RAYMOND M        17            17           0         6       0   \n",
       "CALGER, CHRISTOPHER F     102            39          24        20       2   \n",
       "CAUSEY, RICHARD A          37            49           0         3       0   \n",
       "COLWELL, WESLEY            18            42           2        20       0   \n",
       "\n",
       "                       from_poi_ratio  to_poi_ratio  from_poi_ratio_2  \\\n",
       "insider                                                                 \n",
       "BELDEN, TIMOTHY N            0.013274      0.000000          0.028571   \n",
       "BOWEN JR, RAYMOND M          0.240000      0.000000          0.352941   \n",
       "CALGER, CHRISTOPHER F        0.181818      0.019608          0.512821   \n",
       "CAUSEY, RICHARD A            0.042857      0.000000          0.061224   \n",
       "COLWELL, WESLEY              0.312500      0.000000          0.476190   \n",
       "\n",
       "                       to_poi_ratio_2  \n",
       "insider                                \n",
       "BELDEN, TIMOTHY N            0.000000  \n",
       "BOWEN JR, RAYMOND M          0.438452  \n",
       "CALGER, CHRISTOPHER F        0.083333  \n",
       "CAUSEY, RICHARD A            0.438452  \n",
       "COLWELL, WESLEY              0.000000  \n",
       "\n",
       "[5 rows x 26 columns]"
      ]
     },
     "execution_count": 4,
     "metadata": {},
     "output_type": "execute_result"
    }
   ],
   "source": [
    "# Map POI to True/False\n",
    "df['poi'] = df['POI'].map({'Yes':True ,'No':False})\n",
    "\n",
    "# Drop irrelevent columns\n",
    "df.drop(['position', 'email_address', 'POI'], axis=1, inplace=True)\n",
    "\n",
    "# Reorder the columns\n",
    "cols = df.columns.tolist()\n",
    "cols = cols[-1:] + cols[:-1]\n",
    "df = df[cols]\n",
    "df.head()"
   ]
  },
  {
   "cell_type": "markdown",
   "metadata": {},
   "source": [
    "### Scaling  \n",
    "\n",
    "This step aims to normalize the dataset so that each column has a zero mean and a unit variance. Because each column has different units in this case, scaling is necessary for contructing machine learning models in the next step. Scaling allows me to compare different variables on equal footing. I used the scale function provided by the sklearn preprocessing module. "
   ]
  },
  {
   "cell_type": "code",
   "execution_count": 5,
   "metadata": {},
   "outputs": [],
   "source": [
    "scaled_df = df.copy()\n",
    "scaled_df.iloc[:, 1:] = scale(scaled_df.iloc[:, 1:])"
   ]
  },
  {
   "cell_type": "markdown",
   "metadata": {},
   "source": [
    "### Feature Selection  \n",
    "To select specific features to build machine learning models, I used the automated feature selection function provided by the sklearn library, SelectKBest. "
   ]
  },
  {
   "cell_type": "code",
   "execution_count": 6,
   "metadata": {},
   "outputs": [],
   "source": [
    "my_dataset = scaled_df.to_dict(orient='index')\n",
    "\n",
    "# Seperate target feature and other features as two lists\n",
    "labels = []\n",
    "features = []    \n",
    "for key in my_dataset.keys():\n",
    "    lst = [my_dataset[key][col] for col in cols]\n",
    "    labels.append(lst[0])\n",
    "    features.append(np.array(lst[1:]))"
   ]
  },
  {
   "cell_type": "markdown",
   "metadata": {},
   "source": [
    "We will tune the parameter K (number of features) at the same time we tune the parameters of the machine learning algorithm during the implementation of cross-validation. If we select the number of features on the entire data set and then we tune the parameters of the machine learning algorithm there is a risk of overfitting."
   ]
  },
  {
   "cell_type": "code",
   "execution_count": 7,
   "metadata": {},
   "outputs": [
    {
     "name": "stdout",
     "output_type": "stream",
     "text": [
      "SelectKBest scores: \n",
      "[('total_stock_value', 24.30791375858266),\n",
      " ('salary', 24.049488518125855),\n",
      " ('stock_op_exercised', 22.61053070687378),\n",
      " ('bonus', 21.793282673182844),\n",
      " ('deferred_income', 16.386700145802614),\n",
      " ('from_poi', 16.056981299907683),\n",
      " ('to_poi_ratio_2', 14.964580117045703),\n",
      " ('from_poi_ratio_2', 13.649407553300755),\n",
      " ('bonus_salary_ratio', 11.04644979417711),\n",
      " ('long_term_incentive', 10.8669574026598),\n",
      " ('total_payments', 10.028615421567002),\n",
      " ('restrict_stock', 9.575866371215845),\n",
      " ('other', 7.324079172210604),\n",
      " ('loan_advances', 7.298396699220318),\n",
      " ('expenses', 5.8942515242618665),\n",
      " ('from_insider', 5.375155572084904),\n",
      " ('from_poi_ratio', 5.27166068871788),\n",
      " ('to_poi_ratio', 3.51027321689051),\n",
      " ('director_fees', 2.1127619890604548),\n",
      " ('from_all', 1.041418451130992),\n",
      " ('restrict_stock_deferred', 0.7618633145602356),\n",
      " ('to_poi', 0.1574339256553093),\n",
      " ('to_all', 0.11518993778966989),\n",
      " ('to_insider', 0.08060402036528425),\n",
      " ('deferral_payments', 0.07829135735852705)]\n",
      "\n",
      " Features selected:\n",
      "['salary',\n",
      " 'bonus',\n",
      " 'long_term_incentive',\n",
      " 'deferred_income',\n",
      " 'stock_op_exercised',\n",
      " 'total_stock_value',\n",
      " 'bonus_salary_ratio',\n",
      " 'from_poi',\n",
      " 'from_poi_ratio_2',\n",
      " 'to_poi_ratio_2']\n"
     ]
    }
   ],
   "source": [
    "# Find Top 10 most important features\n",
    "selector = SelectKBest(f_classif, k=10)\n",
    "selector.fit(features, labels)\n",
    "scores = zip(cols[1:], selector.scores_)\n",
    "\n",
    "print('SelectKBest scores: ')\n",
    "sorted_scores = sorted(scores, key=lambda x: x[1], reverse = True)\n",
    "pprint.pprint(sorted_scores)\n",
    "\n",
    "print ('\\n Features selected:')\n",
    "features_selected=[cols[i+1] for i in selector.get_support(indices=True)]\n",
    "pprint.pprint(features_selected)"
   ]
  },
  {
   "cell_type": "code",
   "execution_count": 8,
   "metadata": {
    "scrolled": true
   },
   "outputs": [
    {
     "data": {
      "text/html": [
       "<div>\n",
       "<style scoped>\n",
       "    .dataframe tbody tr th:only-of-type {\n",
       "        vertical-align: middle;\n",
       "    }\n",
       "\n",
       "    .dataframe tbody tr th {\n",
       "        vertical-align: top;\n",
       "    }\n",
       "\n",
       "    .dataframe thead th {\n",
       "        text-align: right;\n",
       "    }\n",
       "</style>\n",
       "<table border=\"1\" class=\"dataframe\">\n",
       "  <thead>\n",
       "    <tr style=\"text-align: right;\">\n",
       "      <th></th>\n",
       "      <th>poi</th>\n",
       "      <th>salary</th>\n",
       "      <th>bonus</th>\n",
       "      <th>long_term_incentive</th>\n",
       "      <th>deferred_income</th>\n",
       "      <th>stock_op_exercised</th>\n",
       "      <th>total_stock_value</th>\n",
       "      <th>bonus_salary_ratio</th>\n",
       "      <th>from_poi</th>\n",
       "      <th>from_poi_ratio_2</th>\n",
       "      <th>to_poi_ratio_2</th>\n",
       "    </tr>\n",
       "  </thead>\n",
       "  <tbody>\n",
       "    <tr>\n",
       "      <th>0</th>\n",
       "      <td>True</td>\n",
       "      <td>213999.0</td>\n",
       "      <td>5249999.0</td>\n",
       "      <td>0.0</td>\n",
       "      <td>-2334434.0</td>\n",
       "      <td>953136.0</td>\n",
       "      <td>1110705.0</td>\n",
       "      <td>24.532820</td>\n",
       "      <td>3</td>\n",
       "      <td>0.028571</td>\n",
       "      <td>0.000000</td>\n",
       "    </tr>\n",
       "    <tr>\n",
       "      <th>1</th>\n",
       "      <td>True</td>\n",
       "      <td>278601.0</td>\n",
       "      <td>1350000.0</td>\n",
       "      <td>974293.0</td>\n",
       "      <td>-833.0</td>\n",
       "      <td>0.0</td>\n",
       "      <td>252055.0</td>\n",
       "      <td>4.845639</td>\n",
       "      <td>6</td>\n",
       "      <td>0.352941</td>\n",
       "      <td>0.438452</td>\n",
       "    </tr>\n",
       "    <tr>\n",
       "      <th>2</th>\n",
       "      <td>True</td>\n",
       "      <td>240189.0</td>\n",
       "      <td>1250000.0</td>\n",
       "      <td>375304.0</td>\n",
       "      <td>-262500.0</td>\n",
       "      <td>0.0</td>\n",
       "      <td>126027.0</td>\n",
       "      <td>5.204235</td>\n",
       "      <td>20</td>\n",
       "      <td>0.512821</td>\n",
       "      <td>0.083333</td>\n",
       "    </tr>\n",
       "    <tr>\n",
       "      <th>3</th>\n",
       "      <td>True</td>\n",
       "      <td>415189.0</td>\n",
       "      <td>1000000.0</td>\n",
       "      <td>350000.0</td>\n",
       "      <td>-235000.0</td>\n",
       "      <td>0.0</td>\n",
       "      <td>2502063.0</td>\n",
       "      <td>2.408542</td>\n",
       "      <td>3</td>\n",
       "      <td>0.061224</td>\n",
       "      <td>0.438452</td>\n",
       "    </tr>\n",
       "    <tr>\n",
       "      <th>4</th>\n",
       "      <td>True</td>\n",
       "      <td>288542.0</td>\n",
       "      <td>1200000.0</td>\n",
       "      <td>0.0</td>\n",
       "      <td>-144062.0</td>\n",
       "      <td>0.0</td>\n",
       "      <td>698242.0</td>\n",
       "      <td>4.158840</td>\n",
       "      <td>20</td>\n",
       "      <td>0.476190</td>\n",
       "      <td>0.000000</td>\n",
       "    </tr>\n",
       "  </tbody>\n",
       "</table>\n",
       "</div>"
      ],
      "text/plain": [
       "    poi    salary      bonus  long_term_incentive  deferred_income  \\\n",
       "0  True  213999.0  5249999.0                  0.0       -2334434.0   \n",
       "1  True  278601.0  1350000.0             974293.0           -833.0   \n",
       "2  True  240189.0  1250000.0             375304.0        -262500.0   \n",
       "3  True  415189.0  1000000.0             350000.0        -235000.0   \n",
       "4  True  288542.0  1200000.0                  0.0        -144062.0   \n",
       "\n",
       "   stock_op_exercised  total_stock_value  bonus_salary_ratio  from_poi  \\\n",
       "0            953136.0          1110705.0           24.532820         3   \n",
       "1                 0.0           252055.0            4.845639         6   \n",
       "2                 0.0           126027.0            5.204235        20   \n",
       "3                 0.0          2502063.0            2.408542         3   \n",
       "4                 0.0           698242.0            4.158840        20   \n",
       "\n",
       "   from_poi_ratio_2  to_poi_ratio_2  \n",
       "0          0.028571        0.000000  \n",
       "1          0.352941        0.438452  \n",
       "2          0.512821        0.083333  \n",
       "3          0.061224        0.438452  \n",
       "4          0.476190        0.000000  "
      ]
     },
     "execution_count": 8,
     "metadata": {},
     "output_type": "execute_result"
    }
   ],
   "source": [
    "final_features = ['poi'] + features_selected\n",
    "features_list = df[final_features].reset_index().drop('insider', axis=1)\n",
    "features_list.head()"
   ]
  },
  {
   "cell_type": "markdown",
   "metadata": {},
   "source": [
    "Because if we select all features to run the model, there is a risk of overfitting, I selected the top 10 features, including salary, bonus, long_term_incentive, deferred_income, stock_op_exercised, total_stock_value, bonus_salary_ratio, from_poi, from_poi_ratio_2, to_poi_ratio_2. "
   ]
  },
  {
   "cell_type": "markdown",
   "metadata": {},
   "source": [
    "### Logistic Regression"
   ]
  },
  {
   "cell_type": "markdown",
   "metadata": {},
   "source": [
    "#### 1. Cross-validation & Hyperparameter tunning "
   ]
  },
  {
   "cell_type": "code",
   "execution_count": 9,
   "metadata": {},
   "outputs": [
    {
     "data": {
      "text/plain": [
       "0.8748768472906404"
      ]
     },
     "execution_count": 9,
     "metadata": {},
     "output_type": "execute_result"
    }
   ],
   "source": [
    "# Simple logisitic regression model with cross-validation\n",
    "lr_clf = LogisticRegression()\n",
    "scores = sklearn.model_selection.cross_val_score(lr_clf, features, labels, cv=5)\n",
    "np.mean(scores)"
   ]
  },
  {
   "cell_type": "markdown",
   "metadata": {},
   "source": [
    "The score indicates the accuracy of the model against training data at each cross validation round. The results above show that this basic model performed not bad in predicting POI, with a mean accuracy score at 87.49%.\n",
    "\n",
    "Next, I will use GridSearchCV to determine optimum classifer parameters for logisitc regression."
   ]
  },
  {
   "cell_type": "code",
   "execution_count": 10,
   "metadata": {},
   "outputs": [],
   "source": [
    "# Function used to tune the algorithm using grid search \n",
    "# and prints out the average evaluation metrics results (accuracy, percision, recall)\n",
    "def tuning_params(grid_search, features, labels, params, iters=50):\n",
    "    acc = []\n",
    "    pre = []\n",
    "    recall = []\n",
    "    \n",
    "    for i in range(iters):\n",
    "        features_train, features_test, labels_train, labels_test = \\\n",
    "        train_test_split(features, labels, test_size = 0.20, random_state = i)\n",
    "        grid_search.fit(features_train, labels_train)\n",
    "        predicts = grid_search.predict(features_test)\n",
    "        \n",
    "        acc = acc + [accuracy_score(labels_test, predicts)] \n",
    "        pre = pre + [precision_score(labels_test, predicts)]\n",
    "        recall = recall + [recall_score(labels_test, predicts)]\n",
    "    \n",
    "    print (\"accuracy: {}\".format(np.mean(acc)))\n",
    "    print (\"precision: {}\".format(np.mean(pre)))\n",
    "    print (\"recall: {}\".format(np.mean(recall)))\n",
    "\n",
    "    best_params = grid_search.best_estimator_.get_params()\n",
    "    for param_name in params.keys():\n",
    "        print(\"%s = %r, \" % (param_name, best_params[param_name]))"
   ]
  },
  {
   "cell_type": "code",
   "execution_count": 11,
   "metadata": {},
   "outputs": [
    {
     "name": "stdout",
     "output_type": "stream",
     "text": [
      "Logistic Regression model evaluation\n",
      "accuracy: 0.8689655172413793\n",
      "precision: 0.34333333333333327\n",
      "recall: 0.17004761904761906\n",
      "tol = 0.01, \n",
      "C = 0.1, \n"
     ]
    }
   ],
   "source": [
    "# Logistic regression model with paremeter tuning ('C' and 'tol')\n",
    "lr_clf = LogisticRegression()\n",
    "lr_param = {'tol': [1, 0.1, 0.01, 0.001, 0.0001],\n",
    "            'C': [0.1, 0.01, 0.001, 0.0001]}\n",
    "lr_grid_search = GridSearchCV(estimator = lr_clf, param_grid = lr_param)\n",
    "\n",
    "print(\"Logistic Regression model evaluation\")\n",
    "tuning_params(lr_grid_search, features, labels, lr_param)"
   ]
  },
  {
   "cell_type": "markdown",
   "metadata": {},
   "source": [
    "After evaluating logistic regression model using GridSearchCV and finding the optimum parameters for the dataset, the accuracy of prediction did not improve from simple logistic regression model we constructed in the previous step. Especially, if we take a look at precision and recall, we found this model generates high accuracy but low precision and recall. Because our data is relatively small and the number of POIs is low, low precision and recall indicate this model might be good at predicting true negatives (non-POIs) but not good at predicting true positives (POIs)."
   ]
  },
  {
   "cell_type": "markdown",
   "metadata": {},
   "source": [
    "#### 2. Tensorflow\n",
    "Because traditional machine learning model with sklearn did not perform well in predicting POIs, I will build regression model using TensorFlow, an open-source library developed by Google primarily for deep learning applications."
   ]
  },
  {
   "cell_type": "code",
   "execution_count": 12,
   "metadata": {},
   "outputs": [],
   "source": [
    "# Split testing and training \n",
    "y = features_list['poi']\n",
    "X = features_list.drop('poi', axis=1)\n",
    "X_train, X_test, y_train, y_test = train_test_split(X, y, random_state=1, stratify=y)"
   ]
  },
  {
   "cell_type": "code",
   "execution_count": 13,
   "metadata": {},
   "outputs": [],
   "source": [
    "# One-hot encoding\n",
    "import tensorflow as tf\n",
    "from tensorflow.keras.utils import to_categorical\n",
    "y_train_categorical = to_categorical(y_train)\n",
    "y_test_categorical = to_categorical(y_test)"
   ]
  },
  {
   "cell_type": "code",
   "execution_count": 14,
   "metadata": {},
   "outputs": [],
   "source": [
    "from tensorflow.keras.models import Sequential\n",
    "from tensorflow.keras.layers import Dense\n",
    "\n",
    "model = Sequential()\n",
    "model.add(Dense(units=10, activation='relu', input_dim=10))\n",
    "model.add(Dense(units=2, activation='softmax'))"
   ]
  },
  {
   "cell_type": "code",
   "execution_count": 15,
   "metadata": {},
   "outputs": [
    {
     "name": "stdout",
     "output_type": "stream",
     "text": [
      "Model: \"sequential\"\n",
      "_________________________________________________________________\n",
      "Layer (type)                 Output Shape              Param #   \n",
      "=================================================================\n",
      "dense (Dense)                (None, 10)                110       \n",
      "_________________________________________________________________\n",
      "dense_1 (Dense)              (None, 2)                 22        \n",
      "=================================================================\n",
      "Total params: 132\n",
      "Trainable params: 132\n",
      "Non-trainable params: 0\n",
      "_________________________________________________________________\n"
     ]
    }
   ],
   "source": [
    "model.summary()"
   ]
  },
  {
   "cell_type": "code",
   "execution_count": 16,
   "metadata": {},
   "outputs": [],
   "source": [
    "model.compile(optimizer=tf.optimizers.Adam(learning_rate=0.1),\n",
    "              loss='sparse_categorical_crossentropy',\n",
    "              metrics=['accuracy'])"
   ]
  },
  {
   "cell_type": "markdown",
   "metadata": {},
   "source": [
    "The loss function I choose is sparse_categorical_crossentropy. It computes the crossentropy loss between the labels and predictions. This crossentropy loss function can be used when there are two or more label classes, in this case, POI and non-POIs. "
   ]
  },
  {
   "cell_type": "code",
   "execution_count": 17,
   "metadata": {},
   "outputs": [],
   "source": [
    "# Fit the model\n",
    "history = model.fit(X_train, y_train, epochs=100, shuffle=True, verbose=0);"
   ]
  },
  {
   "cell_type": "code",
   "execution_count": 18,
   "metadata": {},
   "outputs": [
    {
     "data": {
      "text/html": [
       "<div>\n",
       "<style scoped>\n",
       "    .dataframe tbody tr th:only-of-type {\n",
       "        vertical-align: middle;\n",
       "    }\n",
       "\n",
       "    .dataframe tbody tr th {\n",
       "        vertical-align: top;\n",
       "    }\n",
       "\n",
       "    .dataframe thead th {\n",
       "        text-align: right;\n",
       "    }\n",
       "</style>\n",
       "<table border=\"1\" class=\"dataframe\">\n",
       "  <thead>\n",
       "    <tr style=\"text-align: right;\">\n",
       "      <th></th>\n",
       "      <th>loss</th>\n",
       "      <th>accuracy</th>\n",
       "      <th>epoch</th>\n",
       "    </tr>\n",
       "  </thead>\n",
       "  <tbody>\n",
       "    <tr>\n",
       "      <th>95</th>\n",
       "      <td>0.323293</td>\n",
       "      <td>0.87963</td>\n",
       "      <td>95</td>\n",
       "    </tr>\n",
       "    <tr>\n",
       "      <th>96</th>\n",
       "      <td>0.322969</td>\n",
       "      <td>0.87963</td>\n",
       "      <td>96</td>\n",
       "    </tr>\n",
       "    <tr>\n",
       "      <th>97</th>\n",
       "      <td>0.323775</td>\n",
       "      <td>0.87963</td>\n",
       "      <td>97</td>\n",
       "    </tr>\n",
       "    <tr>\n",
       "      <th>98</th>\n",
       "      <td>0.322914</td>\n",
       "      <td>0.87963</td>\n",
       "      <td>98</td>\n",
       "    </tr>\n",
       "    <tr>\n",
       "      <th>99</th>\n",
       "      <td>0.324722</td>\n",
       "      <td>0.87963</td>\n",
       "      <td>99</td>\n",
       "    </tr>\n",
       "  </tbody>\n",
       "</table>\n",
       "</div>"
      ],
      "text/plain": [
       "        loss  accuracy  epoch\n",
       "95  0.323293   0.87963     95\n",
       "96  0.322969   0.87963     96\n",
       "97  0.323775   0.87963     97\n",
       "98  0.322914   0.87963     98\n",
       "99  0.324722   0.87963     99"
      ]
     },
     "execution_count": 18,
     "metadata": {},
     "output_type": "execute_result"
    }
   ],
   "source": [
    "# Visualize the model's training progress\n",
    "hist = pd.DataFrame(history.history)\n",
    "hist['epoch'] = history.epoch\n",
    "hist.tail()"
   ]
  },
  {
   "cell_type": "code",
   "execution_count": 19,
   "metadata": {},
   "outputs": [
    {
     "data": {
      "image/png": "[encoded data removed]",
      "text/plain": [
       "<Figure size 432x288 with 1 Axes>"
      ]
     },
     "metadata": {
      "needs_background": "light"
     },
     "output_type": "display_data"
    }
   ],
   "source": [
    "# Plot accuracy\n",
    "plt.plot(hist['epoch'], hist['accuracy'])\n",
    "plt.xlabel('Epoch')\n",
    "plt.ylabel('Accuracy')\n",
    "plt.ylim([0,1])\n",
    "plt.show()"
   ]
  },
  {
   "cell_type": "markdown",
   "metadata": {},
   "source": [
    "The results show after 100 epochs, the regression model performed well on predicting training dataset, with accuracy 87.96%. It has a slightly higher accuracy than previous logistic regression model built with sklearn."
   ]
  },
  {
   "cell_type": "code",
   "execution_count": 20,
   "metadata": {},
   "outputs": [
    {
     "name": "stdout",
     "output_type": "stream",
     "text": [
      "Test Accuracy: 0.861111\n"
     ]
    }
   ],
   "source": [
    "print(\"Test Accuracy: %f\" % model.evaluate(X_test, y_test, verbose=0)[1])"
   ]
  },
  {
   "cell_type": "markdown",
   "metadata": {},
   "source": [
    "It perfomed well on testing dataset too, with an accuracy of 86.11%"
   ]
  },
  {
   "cell_type": "markdown",
   "metadata": {},
   "source": [
    "#### 3. Logistic Regression with PCA\n",
    "\n",
    "Instead of using SelectKBest to find the best features and build logistic model, we can also use PCA to reduce dimensionality, and fit logistic regression model to PCA components. "
   ]
  },
  {
   "cell_type": "code",
   "execution_count": 21,
   "metadata": {},
   "outputs": [],
   "source": [
    "# Implement PCA\n",
    "pca = sklearn.decomposition.PCA()\n",
    "reduced_data = pca.fit_transform(features)\n",
    "scaled_df['pca'] = [r for r in reduced_data]"
   ]
  },
  {
   "cell_type": "code",
   "execution_count": 22,
   "metadata": {},
   "outputs": [
    {
     "data": {
      "image/png": "[encoded data removed]",
      "text/plain": [
       "<Figure size 720x720 with 1 Axes>"
      ]
     },
     "metadata": {
      "needs_background": "light"
     },
     "output_type": "display_data"
    }
   ],
   "source": [
    "# Visualize in 2-D\n",
    "fig, ax = plt.subplots(figsize = (10,10))\n",
    "ax.axis('off')\n",
    "pallet = sns.color_palette(palette='coolwarm', n_colors = 2)\n",
    "\n",
    "#Plot POI\n",
    "a = np.stack(scaled_df[scaled_df['poi']]['pca'])\n",
    "ax.scatter(a[:,0], a[:, 1], c=pallet[1], label = \"POI\")\n",
    "\n",
    "#Plot non-POI\n",
    "a = np.stack(scaled_df[scaled_df['poi'].eq(False)]['pca'])\n",
    "ax.scatter(a[:,0], a[:, 1], c=pallet[0], label = \"non-POI\")\n",
    "    \n",
    "ax.legend(loc = 'upper right')\n",
    "plt.show()"
   ]
  },
  {
   "cell_type": "code",
   "execution_count": 23,
   "metadata": {},
   "outputs": [
    {
     "data": {
      "image/png": "[encoded data removed]",
      "text/plain": [
       "<Figure size 432x288 with 1 Axes>"
      ]
     },
     "metadata": {
      "needs_background": "light"
     },
     "output_type": "display_data"
    }
   ],
   "source": [
    "# Choose the optimal number of principle components\n",
    "n = len(df)\n",
    "eigen_vals = np.arange(20) + 1\n",
    "plt.plot(eigen_vals, pca.explained_variance_ratio_[:20], 'ro-', linewidth=2)\n",
    "plt.title('First 20 Principal Components')\n",
    "plt.xlabel('Principal Component')\n",
    "plt.ylabel('Proportion of Explained Variance')\n",
    "plt.show()"
   ]
  },
  {
   "cell_type": "markdown",
   "metadata": {},
   "source": [
    "The above plot shows the fraction of total variance retained vs. the number of principal components taken. Becuase we do not want to overfit the dataset, I'll choose the first 10 principal components as my covariates."
   ]
  },
  {
   "cell_type": "code",
   "execution_count": 24,
   "metadata": {},
   "outputs": [],
   "source": [
    "scaled_df['pca_reduced_10'] = scaled_df['pca'].apply(lambda x: x[:10])"
   ]
  },
  {
   "cell_type": "code",
   "execution_count": 25,
   "metadata": {},
   "outputs": [],
   "source": [
    "def trainTestSplit(df, holdBackFraction = .2):\n",
    "    df = df.reindex(np.random.permutation(df.index))\n",
    "    holdBackIndex = int(holdBackFraction * len(df))\n",
    "    train_data = df[holdBackIndex:].copy()\n",
    "    test_data = df[:holdBackIndex].copy()\n",
    "    return train_data, test_data\n",
    "\n",
    "# Split the dataset into training data and testing data\n",
    "train_df, test_df = trainTestSplit(scaled_df)"
   ]
  },
  {
   "cell_type": "code",
   "execution_count": 26,
   "metadata": {},
   "outputs": [
    {
     "name": "stdout",
     "output_type": "stream",
     "text": [
      "Training: \n",
      "0.9137931034482759\n",
      "Testing: \n",
      "0.9285714285714286\n"
     ]
    }
   ],
   "source": [
    "# Fit a logistic regression\n",
    "logistic = sklearn.linear_model.LogisticRegression()\n",
    "logistic.fit(np.stack(train_df['pca_reduced_10'], axis=0), train_df['poi'])\n",
    "\n",
    "print(\"Training: \")\n",
    "print(logistic.score(np.stack(train_df['pca_reduced_10'], axis=0), train_df['poi']))\n",
    "print(\"Testing: \")\n",
    "print(logistic.score(np.stack(test_df['pca_reduced_10'], axis=0), test_df['poi']))"
   ]
  },
  {
   "cell_type": "markdown",
   "metadata": {},
   "source": [
    "The logistic regression model constructed with PCA outperformed the other two, resulting in highest accuracy for both training and testing datasets."
   ]
  },
  {
   "cell_type": "code",
   "execution_count": 27,
   "metadata": {},
   "outputs": [
    {
     "name": "stdout",
     "output_type": "stream",
     "text": [
      "Accuracy:\n",
      "0.9285714285714286\n",
      "Precision:\n",
      "0.9338624338624338\n",
      "Recall:\n",
      "0.9285714285714286\n",
      "F-measures:\n",
      "0.9120879120879121\n"
     ]
    }
   ],
   "source": [
    "# More evaluations on predictions\n",
    "test_df['logistic_predict'] = logistic.predict(np.stack(test_df['pca_reduced_10'], axis=0))\n",
    "\n",
    "print('Accuracy:')\n",
    "print(sklearn.metrics.accuracy_score(test_df['poi'], test_df['logistic_predict']))\n",
    "print('Precision:')\n",
    "print(sklearn.metrics.precision_score(test_df['poi'], test_df['logistic_predict'], average = 'weighted'))\n",
    "print('Recall:')\n",
    "print(sklearn.metrics.recall_score(test_df['poi'], test_df['logistic_predict'], average = 'weighted'))\n",
    "print('F-measures:')\n",
    "print(sklearn.metrics.f1_score(test_df['poi'], test_df['logistic_predict'], average = 'weighted'))"
   ]
  },
  {
   "cell_type": "markdown",
   "metadata": {},
   "source": [
    "Unlike previous logistic model, this model received high precision and high recall values, indicating it successfully predicted the test dataset. "
   ]
  },
  {
   "cell_type": "code",
   "execution_count": 28,
   "metadata": {},
   "outputs": [],
   "source": [
    "# Plot confusion matrix\n",
    "def plotConfusionMatrix(clf, testDF, feature, target):\n",
    "    predictions = clf.predict(np.stack(testDF[feature], axis=0))\n",
    "    mat = sklearn.metrics.confusion_matrix(testDF[target], predictions)\n",
    "    sns.heatmap(mat.T, square=True, annot=True, fmt='d', cbar=False,\n",
    "                    xticklabels=testDF[target].unique(), yticklabels=testDF[target].unique())\n",
    "    plt.xlabel('true label')\n",
    "    plt.ylabel('predicted label')\n",
    "    plt.title(\"Confusion Matrix\")\n",
    "    plt.show()\n",
    "    plt.close()"
   ]
  },
  {
   "cell_type": "code",
   "execution_count": 29,
   "metadata": {},
   "outputs": [
    {
     "data": {
      "image/png": "[encoded data removed]",
      "text/plain": [
       "<Figure size 432x288 with 1 Axes>"
      ]
     },
     "metadata": {
      "needs_background": "light"
     },
     "output_type": "display_data"
    }
   ],
   "source": [
    "plotConfusionMatrix(logistic, train_df, 'pca_reduced_10', 'poi')"
   ]
  },
  {
   "cell_type": "code",
   "execution_count": 30,
   "metadata": {},
   "outputs": [
    {
     "data": {
      "image/png": "[encoded data removed]",
      "text/plain": [
       "<Figure size 432x288 with 1 Axes>"
      ]
     },
     "metadata": {
      "needs_background": "light"
     },
     "output_type": "display_data"
    }
   ],
   "source": [
    "plotConfusionMatrix(logistic, test_df, 'pca_reduced_10', 'poi')"
   ]
  },
  {
   "cell_type": "markdown",
   "metadata": {},
   "source": [
    "The confusion matrix for both training and testing datasets predictions show the model perfomed well in predictions, resulting in low number of false positive and false negative errors. "
   ]
  },
  {
   "cell_type": "code",
   "execution_count": 31,
   "metadata": {},
   "outputs": [],
   "source": [
    "# Plot ROC\n",
    "# Method from https://github.com/Computational-Content-Analysis-2020/lucem_illud_2020/blob/master/lucem_illud_2020/metrics.py\n",
    "def plotMultiROC(clf, testDF, feature, target):\n",
    "    classes = clf.classes_\n",
    "    probs = clf.predict_proba(np.stack(testDF[feature], axis=0))\n",
    "    predictions = clf.predict(np.stack(testDF[feature], axis=0))\n",
    "\n",
    "    fig, ax = plt.subplots(figsize = (10,10))\n",
    "\n",
    "    aucVals = []\n",
    "    for classIndex, className in enumerate(classes): \n",
    "        truths = [1 if c == className else 0 for c in testDF[target]]\n",
    "        predict = [1 if c == className else 0 for c in predictions]\n",
    "        scores = probs[:, classIndex]\n",
    "\n",
    "        #Get the ROC curve\n",
    "        fpr, tpr, thresholds = sklearn.metrics.roc_curve(truths, scores)\n",
    "        auc = sklearn.metrics.auc(fpr, tpr)\n",
    "        aucVals.append(auc)\n",
    "\n",
    "        #Plot the class's line\n",
    "        ax.plot(fpr, tpr, label = \"{} (AUC ${:.3f}$)\".format(str(className).split(':')[0], auc))\n",
    "\n",
    "    #Make the plot nice, then display it\n",
    "    ax.set_title('Receiver Operating Characteristics')\n",
    "    plt.plot([0,1], [0,1], color = 'k', linestyle='--')\n",
    "    ax.set_xlabel('False Positive Rate')\n",
    "    ax.set_ylabel('True Positive Rate')\n",
    "    ax.legend(loc = 'lower right')\n",
    "    plt.show()\n",
    "    plt.close()"
   ]
  },
  {
   "cell_type": "code",
   "execution_count": 32,
   "metadata": {},
   "outputs": [
    {
     "data": {
      "image/png": "[encoded data removed]",
      "text/plain": [
       "<Figure size 720x720 with 1 Axes>"
      ]
     },
     "metadata": {
      "needs_background": "light"
     },
     "output_type": "display_data"
    }
   ],
   "source": [
    "plotMultiROC(logistic, train_df, 'pca_reduced_10', 'poi')"
   ]
  },
  {
   "cell_type": "code",
   "execution_count": 33,
   "metadata": {},
   "outputs": [
    {
     "data": {
      "image/png": "[encoded data removed]",
      "text/plain": [
       "<Figure size 720x720 with 1 Axes>"
      ]
     },
     "metadata": {
      "needs_background": "light"
     },
     "output_type": "display_data"
    }
   ],
   "source": [
    "plotMultiROC(logistic, test_df, 'pca_reduced_10', 'poi')"
   ]
  },
  {
   "cell_type": "markdown",
   "metadata": {},
   "source": [
    "Plots above present the ROC curves and AUC values for both training and testing dataset. This logistic regression classifier shows excellent performance."
   ]
  },
  {
   "cell_type": "markdown",
   "metadata": {},
   "source": [
    "### Next Step"
   ]
  },
  {
   "cell_type": "markdown",
   "metadata": {},
   "source": [
    "In this section, I deployed three different ways to contruct logistic regression model to fit the Enron finantial + email dataset. As a result, the sklearn logistic regression model constructed with PCA components outperformed the other two and it will be used for our final project, in comparison with other five classification models (Naive Bayes, Decision Tree, K-Nearest Neighbors, AdaBoost, and SVM). \n",
    "\n",
    "For this week's assignment, Ishan will run and evaluate Decision Tree model with our dataset. In the next following weeks, we will each build, run, and evaluate another two machine learning models and compare the results for our final project. "
   ]
  },
  {
   "cell_type": "code",
   "execution_count": null,
   "metadata": {},
   "outputs": [],
   "source": []
  }
 ],
 "metadata": {
  "kernelspec": {
   "display_name": "Python 3",
   "language": "python",
   "name": "python3"
  },
  "language_info": {
   "codemirror_mode": {
    "name": "ipython",
    "version": 3
   },
   "file_extension": ".py",
   "mimetype": "text/x-python",
   "name": "python",
   "nbconvert_exporter": "python",
   "pygments_lexer": "ipython3",
   "version": "3.8.5"
  }
 },
 "nbformat": 4,
 "nbformat_minor": 4
}
